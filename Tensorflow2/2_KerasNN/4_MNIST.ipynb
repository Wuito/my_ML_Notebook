{
 "cells": [
  {
   "cell_type": "code",
   "execution_count": 1,
   "metadata": {
    "ExecuteTime": {
     "end_time": "2024-01-16T08:50:50.336869500Z",
     "start_time": "2024-01-16T08:50:35.802450900Z"
    }
   },
   "outputs": [],
   "source": [
    "import tensorflow as tf\n",
    "from tensorflow.keras import Model\n",
    "from tensorflow.keras import layers\n",
    "from sklearn import datasets\n",
    "import numpy as np\n",
    "import matplotlib.pyplot as plt\n",
    "\n",
    "import pandas as pd\n",
    "from PIL import Image"
   ]
  },
  {
   "cell_type": "markdown",
   "source": [
    "### 从文件加载数据"
   ],
   "metadata": {
    "collapsed": false
   }
  },
  {
   "cell_type": "code",
   "execution_count": 2,
   "outputs": [],
   "source": [
    "# 读取 CSV 文件\n",
    "def readImage(image_path, file_path):\n",
    "    csv_file = pd.read_csv(file_path)\n",
    "    # 获取列数据\n",
    "    train_data_file = csv_file['train']\n",
    "    train_data_label = csv_file['train_label']\n",
    "    test_data_file = csv_file['test']\n",
    "    test_data_label = csv_file['test_label']\n",
    "    x, y_ , t, yt_= [], [], [], []\n",
    "    for _index in np.arange(0, train_data_file.shape[0], 1):\n",
    "        if pd.notna(train_data_file.iloc[_index]):  # 判断如果数据非空\n",
    "            img_ = Image.open(image_path + train_data_file[_index])\n",
    "            img_ = np.array(img_.convert('L'))\n",
    "            img_ = img_ / 255.  # 数据标准归一化\n",
    "            x.append(img_)\n",
    "            y_.append(train_data_label[_index])\n",
    "    for _index in np.arange(0, test_data_file.shape[0], 1):\n",
    "        if pd.notna(test_data_file.iloc[_index]):\n",
    "            img_ = Image.open(image_path + test_data_file[_index])\n",
    "            img_ = np.array(img_.convert('L'))\n",
    "            img_ = img_ / 255.\n",
    "            t.append(img_)\n",
    "            yt_.append(test_data_label[_index])\n",
    "    return (x, y_), (t, yt_)\n",
    "\n",
    "(train_img, train_lab), (test_img, test_lab)  = readImage(image_path='../Data/MNIST/', file_path='../Data/MNIST/file_name.csv')"
   ],
   "metadata": {
    "collapsed": false,
    "ExecuteTime": {
     "end_time": "2024-01-16T08:50:56.087654200Z",
     "start_time": "2024-01-16T08:50:55.980768400Z"
    }
   }
  },
  {
   "cell_type": "markdown",
   "source": [
    "### 数据增强\n",
    "```\n",
    "img_prossess_Gen = tf.keras.preprocessing.image.ImageDataGenerator(\n",
    "    rescale='所有数据乘以这个数（倍乘）',\n",
    "    horizontal_flip='是否随机水平旋转 Boolean',\n",
    "    rotation_rang='随机旋转的角度范围 Int',\n",
    "    width_shift_range='随机宽度偏移量',\n",
    "    height_shift_range='随机高度便宜量',\n",
    "    zoom_range='随机缩放的范围 Float or [lower, upper].'\n",
    ")\n",
    "```"
   ],
   "metadata": {
    "collapsed": false
   }
  },
  {
   "cell_type": "code",
   "execution_count": 5,
   "outputs": [
    {
     "ename": "TypeError",
     "evalue": "float() argument must be a string or a number, not 'ImageDataGenerator'",
     "output_type": "error",
     "traceback": [
      "\u001B[1;31m---------------------------------------------------------------------------\u001B[0m",
      "\u001B[1;31mTypeError\u001B[0m                                 Traceback (most recent call last)",
      "Cell \u001B[1;32mIn[5], line 9\u001B[0m\n\u001B[0;32m      1\u001B[0m img_prossess_Gen \u001B[38;5;241m=\u001B[39m tf\u001B[38;5;241m.\u001B[39mkeras\u001B[38;5;241m.\u001B[39mpreprocessing\u001B[38;5;241m.\u001B[39mimage\u001B[38;5;241m.\u001B[39mImageDataGenerator(\n\u001B[0;32m      2\u001B[0m     rescale\u001B[38;5;241m=\u001B[39m\u001B[38;5;241m1.\u001B[39m\u001B[38;5;241m/\u001B[39m\u001B[38;5;241m1.\u001B[39m,\n\u001B[0;32m      3\u001B[0m     horizontal_flip\u001B[38;5;241m=\u001B[39m\u001B[38;5;28;01mTrue\u001B[39;00m,\n\u001B[1;32m   (...)\u001B[0m\n\u001B[0;32m      7\u001B[0m     zoom_range\u001B[38;5;241m=\u001B[39m\u001B[38;5;241m0.5\u001B[39m\n\u001B[0;32m      8\u001B[0m )\n\u001B[1;32m----> 9\u001B[0m \u001B[43mimg_prossess_Gen\u001B[49m\u001B[38;5;241;43m.\u001B[39;49m\u001B[43mfit\u001B[49m\u001B[43m(\u001B[49m\u001B[43mtrain_img\u001B[49m\u001B[43m)\u001B[49m\n",
      "File \u001B[1;32mD:\\PC\\Anaconda\\envs\\tensorflow2.6\\lib\\site-packages\\keras_preprocessing\\image\\image_data_generator.py:933\u001B[0m, in \u001B[0;36mImageDataGenerator.fit\u001B[1;34m(self, x, augment, rounds, seed)\u001B[0m\n\u001B[0;32m    905\u001B[0m \u001B[38;5;28;01mdef\u001B[39;00m \u001B[38;5;21mfit\u001B[39m(\u001B[38;5;28mself\u001B[39m, x,\n\u001B[0;32m    906\u001B[0m         augment\u001B[38;5;241m=\u001B[39m\u001B[38;5;28;01mFalse\u001B[39;00m,\n\u001B[0;32m    907\u001B[0m         rounds\u001B[38;5;241m=\u001B[39m\u001B[38;5;241m1\u001B[39m,\n\u001B[0;32m    908\u001B[0m         seed\u001B[38;5;241m=\u001B[39m\u001B[38;5;28;01mNone\u001B[39;00m):\n\u001B[0;32m    909\u001B[0m \u001B[38;5;250m    \u001B[39m\u001B[38;5;124;03m\"\"\"Fits the data generator to some sample data.\u001B[39;00m\n\u001B[0;32m    910\u001B[0m \n\u001B[0;32m    911\u001B[0m \u001B[38;5;124;03m    This computes the internal data stats related to the\u001B[39;00m\n\u001B[1;32m   (...)\u001B[0m\n\u001B[0;32m    931\u001B[0m \u001B[38;5;124;03m        seed: Int (default: None). Random seed.\u001B[39;00m\n\u001B[0;32m    932\u001B[0m \u001B[38;5;124;03m   \"\"\"\u001B[39;00m\n\u001B[1;32m--> 933\u001B[0m     x \u001B[38;5;241m=\u001B[39m \u001B[43mnp\u001B[49m\u001B[38;5;241;43m.\u001B[39;49m\u001B[43masarray\u001B[49m\u001B[43m(\u001B[49m\u001B[43mx\u001B[49m\u001B[43m,\u001B[49m\u001B[43m \u001B[49m\u001B[43mdtype\u001B[49m\u001B[38;5;241;43m=\u001B[39;49m\u001B[38;5;28;43mself\u001B[39;49m\u001B[38;5;241;43m.\u001B[39;49m\u001B[43mdtype\u001B[49m\u001B[43m)\u001B[49m\n\u001B[0;32m    934\u001B[0m     \u001B[38;5;28;01mif\u001B[39;00m x\u001B[38;5;241m.\u001B[39mndim \u001B[38;5;241m!=\u001B[39m \u001B[38;5;241m4\u001B[39m:\n\u001B[0;32m    935\u001B[0m         \u001B[38;5;28;01mraise\u001B[39;00m \u001B[38;5;167;01mValueError\u001B[39;00m(\u001B[38;5;124m'\u001B[39m\u001B[38;5;124mInput to `.fit()` should have rank 4. \u001B[39m\u001B[38;5;124m'\u001B[39m\n\u001B[0;32m    936\u001B[0m                          \u001B[38;5;124m'\u001B[39m\u001B[38;5;124mGot array with shape: \u001B[39m\u001B[38;5;124m'\u001B[39m \u001B[38;5;241m+\u001B[39m \u001B[38;5;28mstr\u001B[39m(x\u001B[38;5;241m.\u001B[39mshape))\n",
      "File \u001B[1;32mD:\\PC\\Anaconda\\envs\\tensorflow2.6\\lib\\site-packages\\numpy\\core\\_asarray.py:83\u001B[0m, in \u001B[0;36masarray\u001B[1;34m(a, dtype, order)\u001B[0m\n\u001B[0;32m     14\u001B[0m \u001B[38;5;129m@set_module\u001B[39m(\u001B[38;5;124m'\u001B[39m\u001B[38;5;124mnumpy\u001B[39m\u001B[38;5;124m'\u001B[39m)\n\u001B[0;32m     15\u001B[0m \u001B[38;5;28;01mdef\u001B[39;00m \u001B[38;5;21masarray\u001B[39m(a, dtype\u001B[38;5;241m=\u001B[39m\u001B[38;5;28;01mNone\u001B[39;00m, order\u001B[38;5;241m=\u001B[39m\u001B[38;5;28;01mNone\u001B[39;00m):\n\u001B[0;32m     16\u001B[0m \u001B[38;5;250m    \u001B[39m\u001B[38;5;124;03m\"\"\"Convert the input to an array.\u001B[39;00m\n\u001B[0;32m     17\u001B[0m \n\u001B[0;32m     18\u001B[0m \u001B[38;5;124;03m    Parameters\u001B[39;00m\n\u001B[1;32m   (...)\u001B[0m\n\u001B[0;32m     81\u001B[0m \n\u001B[0;32m     82\u001B[0m \u001B[38;5;124;03m    \"\"\"\u001B[39;00m\n\u001B[1;32m---> 83\u001B[0m     \u001B[38;5;28;01mreturn\u001B[39;00m \u001B[43marray\u001B[49m\u001B[43m(\u001B[49m\u001B[43ma\u001B[49m\u001B[43m,\u001B[49m\u001B[43m \u001B[49m\u001B[43mdtype\u001B[49m\u001B[43m,\u001B[49m\u001B[43m \u001B[49m\u001B[43mcopy\u001B[49m\u001B[38;5;241;43m=\u001B[39;49m\u001B[38;5;28;43;01mFalse\u001B[39;49;00m\u001B[43m,\u001B[49m\u001B[43m \u001B[49m\u001B[43morder\u001B[49m\u001B[38;5;241;43m=\u001B[39;49m\u001B[43morder\u001B[49m\u001B[43m)\u001B[49m\n",
      "\u001B[1;31mTypeError\u001B[0m: float() argument must be a string or a number, not 'ImageDataGenerator'"
     ]
    }
   ],
   "source": [],
   "metadata": {
    "collapsed": false,
    "ExecuteTime": {
     "end_time": "2024-01-16T09:03:31.977752Z",
     "start_time": "2024-01-16T09:03:31.818669400Z"
    }
   }
  },
  {
   "cell_type": "markdown",
   "source": [
    "### 读取标准数据集"
   ],
   "metadata": {
    "collapsed": false
   }
  },
  {
   "cell_type": "code",
   "execution_count": 9,
   "outputs": [
    {
     "name": "stdout",
     "output_type": "stream",
     "text": [
      "训练集样本的大小: (60000, 28, 28)\n",
      "训练集标签的大小: (60000,)\n",
      "测试集样本的大小: (10000, 28, 28)\n",
      "测试集标签的大小: (10000,)\n"
     ]
    }
   ],
   "source": [
    "(x_train, y_train), (x_test, y_test) = tf.keras.datasets.mnist.load_data(path='E:\\Code\\myMachineLearning\\Tensorflow2\\Data\\mnist.npz')\n",
    "x_train, x_test = x_train/255.0, x_test/255.0\n",
    "\n",
    "print('训练集样本的大小:', x_train.shape)\n",
    "print('训练集标签的大小:', y_train.shape)\n",
    "print('测试集样本的大小:', x_test.shape)\n",
    "print('测试集标签的大小:', y_test.shape)"
   ],
   "metadata": {
    "collapsed": false
   }
  },
  {
   "cell_type": "code",
   "execution_count": null,
   "outputs": [],
   "source": [
    "img_prossess_Gen = tf.keras.preprocessing.image.ImageDataGenerator(\n",
    "    rescale=1./1.,\n",
    "    horizontal_flip=True,\n",
    "    rotation_range=45,\n",
    "    width_shift_range=.15,\n",
    "    height_shift_range=.15,\n",
    "    zoom_range=0.5\n",
    ")\n",
    "img_prossess_Gen.fit(train_img)"
   ],
   "metadata": {
    "collapsed": false
   }
  },
  {
   "cell_type": "code",
   "execution_count": null,
   "outputs": [],
   "source": [
    "# 显示出一张灰度图片看看\n",
    "im = x_train[1]\n",
    "im = im.reshape(-1, 28)\n",
    "plt.imshow(im,cmap='Greys')\n",
    "plt.show()"
   ],
   "metadata": {
    "collapsed": false
   }
  },
  {
   "cell_type": "code",
   "execution_count": 10,
   "outputs": [
    {
     "data": {
      "image/png": "[encoded data removed]",
      "text/plain": [
       "<Figure size 640x480 with 20 Axes>"
      ]
     },
     "metadata": {},
     "output_type": "display_data"
    }
   ],
   "source": [
    "#可视化样本，下面是输出了训练集中前20个样本\n",
    "fig, ax = plt.subplots(nrows=4,ncols=5,sharex='all',sharey='all')\n",
    "ax = ax.flatten()\n",
    "for i in range(20):\n",
    "    img = x_train[i].reshape(28, 28)\n",
    "    ax[i].imshow(img,cmap='Greys')\n",
    "ax[0].set_xticks([])\n",
    "ax[0].set_yticks([])\n",
    "plt.tight_layout()\n",
    "plt.show()"
   ],
   "metadata": {
    "collapsed": false
   }
  },
  {
   "cell_type": "markdown",
   "source": [
    "Sequential构建"
   ],
   "metadata": {
    "collapsed": false
   }
  },
  {
   "cell_type": "code",
   "execution_count": null,
   "outputs": [],
   "source": [
    "model = tf.keras.models.Sequential([\n",
    "    tf.keras.layers.Flatten(),\n",
    "    tf.keras.layers.Dense(128, activation=tf.keras.activations.relu),\n",
    "    tf.keras.layers.Dense(10, activation=tf.keras.activations.softmax)\n",
    "])"
   ],
   "metadata": {
    "collapsed": false
   }
  },
  {
   "cell_type": "code",
   "execution_count": null,
   "outputs": [],
   "source": [
    "独立class构建"
   ],
   "metadata": {
    "collapsed": false
   }
  },
  {
   "cell_type": "code",
   "execution_count": 12,
   "outputs": [],
   "source": [
    "class mnisModel(Model):\n",
    "    def __init__(self, *args, **kwargs):\n",
    "        super(mnisModel, self).__init__(*args, **kwargs)\n",
    "\n",
    "        self.flatten1=layers.Flatten()\n",
    "        self.d1=layers.Dense(128, activation=tf.keras.activations.relu)\n",
    "        self.d2=layers.Dense(10, activation=tf.keras.activations.softmax)\n",
    "\n",
    "    def call(self, input):\n",
    "        x = self.flatten1(input)\n",
    "        x = self.d1(x)\n",
    "        x = self.d2(x)\n",
    "        return(x)\n",
    "\n",
    "model = mnisModel()"
   ],
   "metadata": {
    "collapsed": false
   }
  },
  {
   "cell_type": "code",
   "execution_count": 13,
   "outputs": [
    {
     "name": "stdout",
     "output_type": "stream",
     "text": [
      "Epoch 1/5\n",
      "1875/1875 [==============================] - 5s 3ms/step - loss: 0.2562 - sparse_categorical_accuracy: 0.9269 - val_loss: 0.1340 - val_sparse_categorical_accuracy: 0.9592\n",
      "Epoch 2/5\n",
      "1875/1875 [==============================] - 5s 2ms/step - loss: 0.1129 - sparse_categorical_accuracy: 0.9673 - val_loss: 0.1017 - val_sparse_categorical_accuracy: 0.9686\n",
      "Epoch 3/5\n",
      "1875/1875 [==============================] - 5s 2ms/step - loss: 0.0782 - sparse_categorical_accuracy: 0.9762 - val_loss: 0.0818 - val_sparse_categorical_accuracy: 0.9743\n",
      "Epoch 4/5\n",
      "1875/1875 [==============================] - 5s 2ms/step - loss: 0.0572 - sparse_categorical_accuracy: 0.9824 - val_loss: 0.0784 - val_sparse_categorical_accuracy: 0.9744\n",
      "Epoch 5/5\n",
      "1875/1875 [==============================] - 5s 2ms/step - loss: 0.0434 - sparse_categorical_accuracy: 0.9878 - val_loss: 0.0768 - val_sparse_categorical_accuracy: 0.9755\n",
      "Model: \"mnis_model_2\"\n",
      "_________________________________________________________________\n",
      "Layer (type)                 Output Shape              Param #   \n",
      "=================================================================\n",
      "flatten_2 (Flatten)          multiple                  0         \n",
      "_________________________________________________________________\n",
      "dense_4 (Dense)              multiple                  100480    \n",
      "_________________________________________________________________\n",
      "dense_5 (Dense)              multiple                  1290      \n",
      "=================================================================\n",
      "Total params: 101,770\n",
      "Trainable params: 101,770\n",
      "Non-trainable params: 0\n",
      "_________________________________________________________________\n"
     ]
    }
   ],
   "source": [
    "model.compile(optimizer='adam',     # 'adam'  tf.keras.optimizers.Adam(learning_rate=0.4 , beta_1=0.9, beta_2=0.999)\n",
    "              loss=tf.keras.losses.SparseCategoricalCrossentropy(from_logits=False),\n",
    "              metrics=['sparse_categorical_accuracy'])\n",
    "\n",
    "model.fit(x_train, y_train, batch_size=32, epochs=5, validation_data = (x_test, y_test), validation_freq=1)\n",
    "model.summary()"
   ],
   "metadata": {
    "collapsed": false
   }
  },
  {
   "cell_type": "markdown",
   "source": [],
   "metadata": {
    "collapsed": false
   }
  }
 ],
 "metadata": {
  "kernelspec": {
   "display_name": "tensorflow2.6",
   "language": "python",
   "name": "python3"
  },
  "language_info": {
   "codemirror_mode": {
    "name": "ipython",
    "version": 3
   },
   "file_extension": ".py",
   "mimetype": "text/x-python",
   "name": "python",
   "nbconvert_exporter": "python",
   "pygments_lexer": "ipython3",
   "version": "3.7.12"
  }
 },
 "nbformat": 4,
 "nbformat_minor": 2
}
