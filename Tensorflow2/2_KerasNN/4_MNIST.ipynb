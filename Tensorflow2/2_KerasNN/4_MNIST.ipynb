{
 "cells": [
  {
   "cell_type": "code",
   "execution_count": 2,
   "metadata": {
    "ExecuteTime": {
     "end_time": "2024-01-16T12:33:49.511152500Z",
     "start_time": "2024-01-16T12:33:46.591296400Z"
    }
   },
   "outputs": [],
   "source": [
    "import tensorflow as tf\n",
    "from tensorflow.keras import Model\n",
    "from tensorflow.keras import layers\n",
    "from sklearn import datasets\n",
    "import numpy as np\n",
    "import matplotlib.pyplot as plt\n",
    "\n",
    "import pandas as pd\n",
    "from PIL import Image"
   ]
  },
  {
   "cell_type": "markdown",
   "source": [
    "### 从文件加载数据"
   ],
   "metadata": {
    "collapsed": false
   }
  },
  {
   "cell_type": "code",
   "execution_count": 2,
   "outputs": [],
   "source": [
    "# 读取 CSV 文件\n",
    "def readImage(image_path, file_path):\n",
    "    csv_file = pd.read_csv(file_path)\n",
    "    # 获取列数据\n",
    "    train_data_file = csv_file['train']\n",
    "    train_data_label = csv_file['train_label']\n",
    "    test_data_file = csv_file['test']\n",
    "    test_data_label = csv_file['test_label']\n",
    "    x, y_ , t, yt_= [], [], [], []\n",
    "    for _index in np.arange(0, train_data_file.shape[0], 1):\n",
    "        if pd.notna(train_data_file.iloc[_index]):  # 判断如果数据非空\n",
    "            img_ = Image.open(image_path + train_data_file[_index])\n",
    "            img_ = np.array(img_.convert('L'))\n",
    "            img_ = img_ / 255.  # 数据标准归一化\n",
    "            x.append(img_)\n",
    "            y_.append(train_data_label[_index])\n",
    "    for _index in np.arange(0, test_data_file.shape[0], 1):\n",
    "        if pd.notna(test_data_file.iloc[_index]):\n",
    "            img_ = Image.open(image_path + test_data_file[_index])\n",
    "            img_ = np.array(img_.convert('L'))\n",
    "            img_ = img_ / 255.\n",
    "            t.append(img_)\n",
    "            yt_.append(test_data_label[_index])\n",
    "    return (x, y_), (t, yt_)\n",
    "\n",
    "(train_img, train_lab), (test_img, test_lab)  = readImage(image_path='../Data/MNIST/', file_path='../Data/MNIST/file_name.csv')"
   ],
   "metadata": {
    "collapsed": false,
    "ExecuteTime": {
     "end_time": "2024-01-16T08:50:56.087654200Z",
     "start_time": "2024-01-16T08:50:55.980768400Z"
    }
   }
  },
  {
   "cell_type": "markdown",
   "source": [
    "### 读取标准数据集"
   ],
   "metadata": {
    "collapsed": false
   }
  },
  {
   "cell_type": "code",
   "execution_count": 3,
   "outputs": [
    {
     "name": "stdout",
     "output_type": "stream",
     "text": [
      "训练集样本的大小: (60000, 28, 28)\n",
      "训练集标签的大小: (60000,)\n",
      "测试集样本的大小: (10000, 28, 28)\n",
      "测试集标签的大小: (10000,)\n"
     ]
    }
   ],
   "source": [
    "(x_train, y_train), (x_test, y_test) = tf.keras.datasets.mnist.load_data(path='E:\\Code\\myMachineLearning\\Tensorflow2\\Data\\mnist.npz')\n",
    "x_train, x_test = x_train/255.0, x_test/255.0\n",
    "\n",
    "print('训练集样本的大小:', x_train.shape)\n",
    "print('训练集标签的大小:', y_train.shape)\n",
    "print('测试集样本的大小:', x_test.shape)\n",
    "print('测试集标签的大小:', y_test.shape)"
   ],
   "metadata": {
    "collapsed": false,
    "ExecuteTime": {
     "end_time": "2024-01-16T12:29:52.441052600Z",
     "start_time": "2024-01-16T12:29:52.141289500Z"
    }
   }
  },
  {
   "cell_type": "markdown",
   "source": [
    "### 数据扩充与打包工具，数据增强\n",
    "```\n",
    "img_prossess_Gen = tf.keras.preprocessing.image.ImageDataGenerator(\n",
    "    rescale='所有数据乘以这个数（倍乘）',\n",
    "    horizontal_flip='是否随机水平旋转 Boolean',\n",
    "    rotation_rang='随机旋转的角度范围 Int',\n",
    "    width_shift_range='随机宽度偏移量',\n",
    "    height_shift_range='随机高度便宜量',\n",
    "    zoom_range='随机缩放的范围 Float or [lower, upper].'\n",
    ")\n",
    "```"
   ],
   "metadata": {
    "collapsed": false
   }
  },
  {
   "cell_type": "code",
   "execution_count": null,
   "outputs": [],
   "source": [
    "img_prossess_Gen = tf.keras.preprocessing.image.ImageDataGenerator(\n",
    "    rescale=1./1.,\n",
    "    horizontal_flip=True,\n",
    "    rotation_range=45,\n",
    "    width_shift_range=.15,\n",
    "    height_shift_range=.15,\n",
    "    zoom_range=0.5\n",
    ")\n",
    "img_prossess_Gen.fit(train_img)"
   ],
   "metadata": {
    "collapsed": false
   }
  },
  {
   "cell_type": "markdown",
   "source": [
    "### 显示数据"
   ],
   "metadata": {
    "collapsed": false
   }
  },
  {
   "cell_type": "code",
   "execution_count": null,
   "outputs": [],
   "source": [
    "# 显示出一张灰度图片看看\n",
    "im = x_train[1]\n",
    "im = im.reshape(-1, 28)\n",
    "plt.imshow(im,cmap='Greys')\n",
    "plt.show()"
   ],
   "metadata": {
    "collapsed": false
   }
  },
  {
   "cell_type": "code",
   "execution_count": 10,
   "outputs": [
    {
     "data": {
      "image/png": "[encoded data removed]",
      "text/plain": [
       "<Figure size 640x480 with 20 Axes>"
      ]
     },
     "metadata": {},
     "output_type": "display_data"
    }
   ],
   "source": [
    "#可视化样本，下面是输出了训练集中前20个样本\n",
    "fig, ax = plt.subplots(nrows=4,ncols=5,sharex='all',sharey='all')\n",
    "ax = ax.flatten()\n",
    "for i in range(20):\n",
    "    img = x_train[i].reshape(28, 28)\n",
    "    ax[i].imshow(img,cmap='Greys')\n",
    "ax[0].set_xticks([])\n",
    "ax[0].set_yticks([])\n",
    "plt.tight_layout()\n",
    "plt.show()"
   ],
   "metadata": {
    "collapsed": false
   }
  },
  {
   "cell_type": "markdown",
   "source": [
    "### Sequential构建"
   ],
   "metadata": {
    "collapsed": false
   }
  },
  {
   "cell_type": "code",
   "execution_count": null,
   "outputs": [],
   "source": [
    "model = tf.keras.models.Sequential([\n",
    "    tf.keras.layers.Flatten(),\n",
    "    tf.keras.layers.Dense(128, activation=tf.keras.activations.relu),\n",
    "    tf.keras.layers.Dense(10, activation=tf.keras.activations.softmax)\n",
    "])"
   ],
   "metadata": {
    "collapsed": false
   }
  },
  {
   "cell_type": "code",
   "execution_count": null,
   "outputs": [],
   "source": [
    "### 独立class构建"
   ],
   "metadata": {
    "collapsed": false
   }
  },
  {
   "cell_type": "code",
   "execution_count": 3,
   "outputs": [],
   "source": [
    "class mnisModel(Model):\n",
    "    def __init__(self, *args, **kwargs):\n",
    "        super(mnisModel, self).__init__(*args, **kwargs)\n",
    "\n",
    "        self.flatten1=layers.Flatten()\n",
    "        self.d1=layers.Dense(128, activation=tf.keras.activations.relu)\n",
    "        self.d2=layers.Dense(10, activation=tf.keras.activations.softmax)\n",
    "\n",
    "    def call(self, input):\n",
    "        x = self.flatten1(input)\n",
    "        x = self.d1(x)\n",
    "        x = self.d2(x)\n",
    "        return(x)\n",
    "\n",
    "model = mnisModel()"
   ],
   "metadata": {
    "collapsed": false,
    "ExecuteTime": {
     "end_time": "2024-01-16T12:33:58.771481400Z",
     "start_time": "2024-01-16T12:33:58.185944100Z"
    }
   }
  },
  {
   "cell_type": "markdown",
   "source": [
    "### 添加过程记录回调函数"
   ],
   "metadata": {
    "collapsed": false
   }
  },
  {
   "cell_type": "code",
   "execution_count": 9,
   "outputs": [],
   "source": [
    "# 定义保存和记录数据的回调器\n",
    "cp_callback = tf.keras.callbacks.ModelCheckpoint(filepath=\"./checkpoint/mnist/mnist.ckpt\",\n",
    "                                                 save_weights_only=True,\n",
    "                                                 save_best_only=True)\n",
    "# 设置TensorBoard输出的回调函数\n",
    "tfbd_callback = tf.keras.callbacks.TensorBoard(log_dir=\"./logs/mnist/\")"
   ],
   "metadata": {
    "collapsed": false,
    "ExecuteTime": {
     "end_time": "2024-01-16T12:04:59.187764200Z",
     "start_time": "2024-01-16T12:04:59.167761300Z"
    }
   }
  },
  {
   "cell_type": "code",
   "execution_count": 10,
   "outputs": [
    {
     "name": "stdout",
     "output_type": "stream",
     "text": [
      "Epoch 1/5\n",
      "1875/1875 [==============================] - 3s 2ms/step - loss: 0.0152 - sparse_categorical_accuracy: 0.9953 - val_loss: 0.0797 - val_sparse_categorical_accuracy: 0.9794\n",
      "Epoch 2/5\n",
      "1875/1875 [==============================] - 3s 2ms/step - loss: 0.0104 - sparse_categorical_accuracy: 0.9968 - val_loss: 0.0902 - val_sparse_categorical_accuracy: 0.9787\n",
      "Epoch 3/5\n",
      "1875/1875 [==============================] - 3s 2ms/step - loss: 0.0106 - sparse_categorical_accuracy: 0.9968 - val_loss: 0.0915 - val_sparse_categorical_accuracy: 0.9788\n",
      "Epoch 4/5\n",
      "1875/1875 [==============================] - 3s 2ms/step - loss: 0.0091 - sparse_categorical_accuracy: 0.9969 - val_loss: 0.0874 - val_sparse_categorical_accuracy: 0.9806\n",
      "Epoch 5/5\n",
      "1875/1875 [==============================] - 3s 2ms/step - loss: 0.0089 - sparse_categorical_accuracy: 0.9969 - val_loss: 0.0986 - val_sparse_categorical_accuracy: 0.9787\n",
      "Model: \"mnis_model\"\n",
      "_________________________________________________________________\n",
      "Layer (type)                 Output Shape              Param #   \n",
      "=================================================================\n",
      "flatten (Flatten)            multiple                  0         \n",
      "_________________________________________________________________\n",
      "dense (Dense)                multiple                  100480    \n",
      "_________________________________________________________________\n",
      "dense_1 (Dense)              multiple                  1290      \n",
      "=================================================================\n",
      "Total params: 101,770\n",
      "Trainable params: 101,770\n",
      "Non-trainable params: 0\n",
      "_________________________________________________________________\n"
     ]
    }
   ],
   "source": [
    "model.compile(optimizer='adam',     # 'adam'  tf.keras.optimizers.Adam(learning_rate=0.4 , beta_1=0.9, beta_2=0.999)\n",
    "                        loss=tf.keras.losses.SparseCategoricalCrossentropy(from_logits=False),\n",
    "                        metrics=['sparse_categorical_accuracy'])\n",
    "\n",
    "history =model.fit(x_train, y_train, batch_size=32, epochs=5, validation_data = (x_test, y_test), validation_freq=1, callbacks=[cp_callback, tfbd_callback])\n",
    "model.summary()"
   ],
   "metadata": {
    "collapsed": false,
    "ExecuteTime": {
     "end_time": "2024-01-16T12:05:17.662698Z",
     "start_time": "2024-01-16T12:05:01.367828800Z"
    }
   }
  },
  {
   "cell_type": "code",
   "execution_count": 8,
   "outputs": [
    {
     "data": {
      "text/plain": "<Figure size 640x480 with 2 Axes>",
      "image/png": "[encoded data removed]"
     },
     "metadata": {},
     "output_type": "display_data"
    }
   ],
   "source": [
    "acc = history.history['sparse_categorical_accuracy']\n",
    "val_acc = history.history['val_sparse_categorical_accuracy']\n",
    "loss = history.history['loss']\n",
    "val_loss = history.history['val_loss']\n",
    "\n",
    "plt.subplot(1, 2, 1)\n",
    "plt.plot(acc, label='Training Accuracy')\n",
    "plt.plot(val_acc, label='Validation Accuracy')\n",
    "plt.title('Training and Validation Accuracy')\n",
    "plt.legend()\n",
    "\n",
    "plt.subplot(1, 2, 2)\n",
    "plt.plot(loss, label='Training Loss')\n",
    "plt.plot(val_loss, label='Validation Loss')\n",
    "plt.title('Training and Validation Loss')\n",
    "plt.legend()\n",
    "plt.show()"
   ],
   "metadata": {
    "collapsed": false,
    "ExecuteTime": {
     "end_time": "2024-01-16T11:59:05.333323900Z",
     "start_time": "2024-01-16T11:59:05.137646800Z"
    }
   }
  },
  {
   "cell_type": "markdown",
   "source": [
    "## 加载模型，执行前向传播，进行一次新推理"
   ],
   "metadata": {
    "collapsed": false
   }
  },
  {
   "cell_type": "code",
   "execution_count": 14,
   "outputs": [
    {
     "name": "stdout",
     "output_type": "stream",
     "text": [
      "WARNING:tensorflow:Unresolved object in checkpoint: (root).optimizer\n",
      "WARNING:tensorflow:Unresolved object in checkpoint: (root).d1.kernel\n",
      "WARNING:tensorflow:Unresolved object in checkpoint: (root).d1.bias\n",
      "WARNING:tensorflow:Unresolved object in checkpoint: (root).d2.kernel\n",
      "WARNING:tensorflow:Unresolved object in checkpoint: (root).d2.bias\n",
      "WARNING:tensorflow:Unresolved object in checkpoint: (root).optimizer.iter\n",
      "WARNING:tensorflow:Unresolved object in checkpoint: (root).optimizer.beta_1\n",
      "WARNING:tensorflow:Unresolved object in checkpoint: (root).optimizer.beta_2\n",
      "WARNING:tensorflow:Unresolved object in checkpoint: (root).optimizer.decay\n",
      "WARNING:tensorflow:Unresolved object in checkpoint: (root).optimizer.learning_rate\n",
      "WARNING:tensorflow:Unresolved object in checkpoint: (root).optimizer's state 'm' for (root).d1.kernel\n",
      "WARNING:tensorflow:Unresolved object in checkpoint: (root).optimizer's state 'm' for (root).d1.bias\n",
      "WARNING:tensorflow:Unresolved object in checkpoint: (root).optimizer's state 'm' for (root).d2.kernel\n",
      "WARNING:tensorflow:Unresolved object in checkpoint: (root).optimizer's state 'm' for (root).d2.bias\n",
      "WARNING:tensorflow:Unresolved object in checkpoint: (root).optimizer's state 'v' for (root).d1.kernel\n",
      "WARNING:tensorflow:Unresolved object in checkpoint: (root).optimizer's state 'v' for (root).d1.bias\n",
      "WARNING:tensorflow:Unresolved object in checkpoint: (root).optimizer's state 'v' for (root).d2.kernel\n",
      "WARNING:tensorflow:Unresolved object in checkpoint: (root).optimizer's state 'v' for (root).d2.bias\n",
      "WARNING:tensorflow:A checkpoint was restored (e.g. tf.train.Checkpoint.restore or tf.keras.Model.load_weights) but not all checkpointed values were used. See above for specific issues. Use expect_partial() on the load status object, e.g. tf.train.Checkpoint.restore(...).expect_partial(), to silence these warnings, or use assert_consumed() to make the check explicit. See https://www.tensorflow.org/guide/checkpoint#loading_mechanics for details.\n",
      "read image:E:/Code/myMachineLearning/Tensorflow2/Data/MNIST/1.png\n"
     ]
    },
    {
     "ename": "AttributeError",
     "evalue": "module 'PIL.Image' has no attribute 'ANTIALIAS'",
     "output_type": "error",
     "traceback": [
      "\u001B[1;31m---------------------------------------------------------------------------\u001B[0m",
      "\u001B[1;31mAttributeError\u001B[0m                            Traceback (most recent call last)",
      "Cell \u001B[1;32mIn[14], line 14\u001B[0m\n\u001B[0;32m     11\u001B[0m \u001B[38;5;28mprint\u001B[39m(\u001B[38;5;124m\"\u001B[39m\u001B[38;5;124mread image:\u001B[39m\u001B[38;5;132;01m{}\u001B[39;00m\u001B[38;5;124m\"\u001B[39m\u001B[38;5;241m.\u001B[39mformat(img_path))\n\u001B[0;32m     13\u001B[0m img_ \u001B[38;5;241m=\u001B[39m Image\u001B[38;5;241m.\u001B[39mopen(img_path)\n\u001B[1;32m---> 14\u001B[0m img_ \u001B[38;5;241m=\u001B[39m img_\u001B[38;5;241m.\u001B[39mresize((\u001B[38;5;241m28\u001B[39m, \u001B[38;5;241m28\u001B[39m), \u001B[43mImage\u001B[49m\u001B[38;5;241;43m.\u001B[39;49m\u001B[43mANTIALIAS\u001B[49m)\n\u001B[0;32m     15\u001B[0m img_ \u001B[38;5;241m=\u001B[39m np\u001B[38;5;241m.\u001B[39marray(img_\u001B[38;5;241m.\u001B[39mconvert(\u001B[38;5;124m'\u001B[39m\u001B[38;5;124mL\u001B[39m\u001B[38;5;124m'\u001B[39m))\n\u001B[0;32m     16\u001B[0m img_ \u001B[38;5;241m=\u001B[39m \u001B[38;5;241m255\u001B[39m \u001B[38;5;241m-\u001B[39m img_\n",
      "\u001B[1;31mAttributeError\u001B[0m: module 'PIL.Image' has no attribute 'ANTIALIAS'"
     ]
    }
   ],
   "source": [
    "model_path = './checkpoint/mnist/mnist.ckpt'\n",
    "image_path = 'E:/Code/myMachineLearning/Tensorflow2/Data/MNIST/'\n",
    "\n",
    "new_model = mnisModel()\n",
    "new_model.load_weights(model_path)\n",
    "\n",
    "preNum = int(input(\"place input how many jpg file while be test:\"))\n",
    "for i in range(preNum):\n",
    "    imgNum = int(input(\"place input png name:\"))\n",
    "    img_path = image_path+str(imgNum)+'.png'\n",
    "    print(\"read image:{}\".format(img_path))\n",
    "\n",
    "    img_ = Image.open(img_path)\n",
    "    img_ = img_.resize((28, 28), Image.ANTIALIAS)\n",
    "    img_ = np.array(img_.convert('L'))\n",
    "    img_ = 255 - img_\n",
    "    img_ = img_/255.\n",
    "\n",
    "    x_predict = img_[tf.newaxis, ...]\n",
    "    result = model.predict(x_predict)\n",
    "    predNum = tf.argmax(result, axis=1)\n",
    "    print(\"predice num is: \")\n",
    "    tf.print(predNum)\n"
   ],
   "metadata": {
    "collapsed": false,
    "ExecuteTime": {
     "end_time": "2024-01-16T12:22:04.603873100Z",
     "start_time": "2024-01-16T12:21:59.702068300Z"
    }
   }
  },
  {
   "cell_type": "markdown",
   "source": [],
   "metadata": {
    "collapsed": false
   }
  },
  {
   "cell_type": "code",
   "execution_count": 4,
   "outputs": [
    {
     "name": "stdout",
     "output_type": "stream",
     "text": [
      "read image:../Data/MNIST/2.png\n",
      "predice num is: \n",
      "[1]\r\n",
      "read image:../Data/MNIST/1.png\n",
      "predice num is: \n",
      "[1]\r\n",
      "read image:../Data/MNIST/4.png\n",
      "predice num is: \n",
      "[1]\r\n"
     ]
    }
   ],
   "source": [
    "import cv2\n",
    "# 1. 加载图像\n",
    "model_path = './checkpoint/mnist/mnist.ckpt'\n",
    "image_path = '../Data/MNIST/'\n",
    "\n",
    "new_model = mnisModel()\n",
    "new_model.load_weights(model_path)\n",
    "\n",
    "preNum = int(input(\"place input how many jpg file while be test:\"))\n",
    "for i in range(preNum):\n",
    "    imgNum = int(input(\"place input png name:\"))\n",
    "    img_path = image_path+str(imgNum)+'.png'\n",
    "    print(\"read image:{}\".format(img_path))\n",
    "\n",
    "    img_ = cv2.imread(img_path)\n",
    "    resized_img = cv2.resize(img_, (28, 28), interpolation=cv2.INTER_AREA)\n",
    "    gray_img = cv2.cvtColor(resized_img, cv2.COLOR_BGR2GRAY)\n",
    "    # 4. 准备图像数据，进行归一化和添加批次维度\n",
    "    cv2.imshow(\"input num\", img_)\n",
    "    img_for_prediction = gray_img.astype(np.float32) / 255.0  # 归一化到 [0, 1]\n",
    "    img_for_prediction = np.expand_dims(img_for_prediction, axis=0)  # 添加批次维度\n",
    "\n",
    "    result = model.predict(img_for_prediction)\n",
    "    predNum = tf.argmax(result, axis=1)\n",
    "    print(\"predice num is: \")\n",
    "    tf.print(predNum)"
   ],
   "metadata": {
    "collapsed": false,
    "ExecuteTime": {
     "end_time": "2024-01-16T12:34:18.584293Z",
     "start_time": "2024-01-16T12:34:05.851210200Z"
    }
   }
  }
 ],
 "metadata": {
  "kernelspec": {
   "display_name": "tensorflow2.6",
   "language": "python",
   "name": "python3"
  },
  "language_info": {
   "codemirror_mode": {
    "name": "ipython",
    "version": 3
   },
   "file_extension": ".py",
   "mimetype": "text/x-python",
   "name": "python",
   "nbconvert_exporter": "python",
   "pygments_lexer": "ipython3",
   "version": "3.7.12"
  }
 },
 "nbformat": 4,
 "nbformat_minor": 2
}
