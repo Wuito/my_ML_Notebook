{
 "cells": [
  {
   "cell_type": "code",
   "execution_count": null,
   "metadata": {
    "ExecuteTime": {
     "end_time": "2024-01-16T12:33:49.511152500Z",
     "start_time": "2024-01-16T12:33:46.591296400Z"
    }
   },
   "outputs": [],
   "source": [
    "import tensorflow as tf\n",
    "from tensorflow.keras import Model\n",
    "from tensorflow.keras import layers\n",
    "from sklearn import datasets\n",
    "import numpy as np\n",
    "import matplotlib.pyplot as plt\n",
    "\n",
    "import pandas as pd\n",
    "from PIL import Image"
   ]
  },
  {
   "cell_type": "markdown",
   "metadata": {
    "collapsed": false
   },
   "source": [
    "### Sequential构建网络"
   ]
  },
  {
   "cell_type": "code",
   "execution_count": null,
   "metadata": {
    "collapsed": false
   },
   "outputs": [],
   "source": [
    "model = tf.keras.models.Sequential([\n",
    "    tf.keras.layers.Flatten(),\n",
    "    tf.keras.layers.Dense(128, activation=tf.keras.activations.relu),\n",
    "    tf.keras.layers.Dense(10, activation=tf.keras.activations.softmax)\n",
    "])"
   ]
  },
  {
   "cell_type": "markdown",
   "metadata": {},
   "source": [
    "### 独立class构建网络"
   ]
  },
  {
   "cell_type": "code",
   "execution_count": null,
   "metadata": {
    "ExecuteTime": {
     "end_time": "2024-01-16T12:33:58.771481400Z",
     "start_time": "2024-01-16T12:33:58.185944100Z"
    },
    "collapsed": false
   },
   "outputs": [],
   "source": [
    "class mnisModel(Model):\n",
    "    def __init__(self, *args, **kwargs):\n",
    "        super(mnisModel, self).__init__(*args, **kwargs)\n",
    "\n",
    "        self.flatten1=layers.Flatten()\n",
    "        self.d1=layers.Dense(128, activation=tf.keras.activations.relu)\n",
    "        self.d2=layers.Dense(10, activation=tf.keras.activations.softmax)\n",
    "\n",
    "    def call(self, input):\n",
    "        x = self.flatten1(input)\n",
    "        x = self.d1(x)\n",
    "        x = self.d2(x)\n",
    "        return(x)\n",
    "\n",
    "model = mnisModel()"
   ]
  },
  {
   "cell_type": "markdown",
   "metadata": {
    "collapsed": false
   },
   "source": [
    "### 从文件加载数据"
   ]
  },
  {
   "cell_type": "code",
   "execution_count": null,
   "metadata": {
    "ExecuteTime": {
     "end_time": "2024-01-16T08:50:56.087654200Z",
     "start_time": "2024-01-16T08:50:55.980768400Z"
    },
    "collapsed": false
   },
   "outputs": [],
   "source": [
    "# 读取 CSV 文件\n",
    "def readImage(image_path, file_path):\n",
    "    csv_file = pd.read_csv(file_path)\n",
    "    # 获取列数据\n",
    "    train_data_file = csv_file['train']\n",
    "    train_data_label = csv_file['train_label']\n",
    "    test_data_file = csv_file['test']\n",
    "    test_data_label = csv_file['test_label']\n",
    "    x, y_ , t, yt_= [], [], [], []\n",
    "    for _index in np.arange(0, train_data_file.shape[0], 1):\n",
    "        if pd.notna(train_data_file.iloc[_index]):  # 判断如果数据非空\n",
    "            img_ = Image.open(image_path + train_data_file[_index])\n",
    "            img_ = np.array(img_.convert('L'))\n",
    "            img_ = img_ / 255.  # 数据标准归一化\n",
    "            x.append(img_)\n",
    "            y_.append(train_data_label[_index])\n",
    "    for _index in np.arange(0, test_data_file.shape[0], 1):\n",
    "        if pd.notna(test_data_file.iloc[_index]):\n",
    "            img_ = Image.open(image_path + test_data_file[_index])\n",
    "            img_ = np.array(img_.convert('L'))\n",
    "            img_ = img_ / 255.\n",
    "            t.append(img_)\n",
    "            yt_.append(test_data_label[_index])\n",
    "    return (x, y_), (t, yt_)\n",
    "\n",
    "(train_img, train_lab), (test_img, test_lab)  = readImage(image_path='../Data/MNIST/', file_path='../Data/MNIST/file_name.csv')"
   ]
  },
  {
   "cell_type": "markdown",
   "metadata": {
    "collapsed": false
   },
   "source": [
    "### 读取标准数据集"
   ]
  },
  {
   "cell_type": "code",
   "execution_count": null,
   "metadata": {
    "ExecuteTime": {
     "end_time": "2024-01-16T12:29:52.441052600Z",
     "start_time": "2024-01-16T12:29:52.141289500Z"
    },
    "collapsed": false
   },
   "outputs": [],
   "source": [
    "(x_train, y_train), (x_test, y_test) = tf.keras.datasets.mnist.load_data(path='E:\\CodeLearn\\MachineLearning\\my-machine-learning\\Tensorflow2\\Data\\mnist.npz')\n",
    "x_train, x_test = x_train/255.0, x_test/255.0\n",
    "\n",
    "print('训练集样本的大小:', x_train.shape)\n",
    "print('训练集标签的大小:', y_train.shape)\n",
    "print('测试集样本的大小:', x_test.shape)\n",
    "print('测试集标签的大小:', y_test.shape)"
   ]
  },
  {
   "cell_type": "markdown",
   "metadata": {
    "collapsed": false
   },
   "source": [
    "### 数据扩充与打包工具，数据增强\n",
    "```\n",
    "img_prossess_Gen = tf.keras.preprocessing.image.ImageDataGenerator(\n",
    "    rescale='所有数据乘以这个数（倍乘）',\n",
    "    horizontal_flip='是否随机水平旋转 Boolean',\n",
    "    rotation_rang='随机旋转的角度范围 Int',\n",
    "    width_shift_range='随机宽度偏移量',\n",
    "    height_shift_range='随机高度便宜量',\n",
    "    zoom_range='随机缩放的范围 Float or [lower, upper].'\n",
    ")\n",
    "```"
   ]
  },
  {
   "cell_type": "code",
   "execution_count": null,
   "metadata": {
    "collapsed": false
   },
   "outputs": [],
   "source": [
    "img_prossess_Gen = tf.keras.preprocessing.image.ImageDataGenerator(\n",
    "    rescale=1./1.,\n",
    "    horizontal_flip=True,\n",
    "    rotation_range=45,\n",
    "    width_shift_range=.15,\n",
    "    height_shift_range=.15,\n",
    "    zoom_range=0.5\n",
    ")\n",
    "img_prossess_Gen.fit(train_img)"
   ]
  },
  {
   "cell_type": "markdown",
   "metadata": {
    "collapsed": false
   },
   "source": [
    "### 显示数据"
   ]
  },
  {
   "cell_type": "code",
   "execution_count": null,
   "metadata": {
    "collapsed": false
   },
   "outputs": [],
   "source": [
    "# 显示出一张灰度图片看看\n",
    "im = x_train[1]\n",
    "im = im.reshape(-1, 28)\n",
    "plt.imshow(im,cmap='Greys')\n",
    "plt.show()"
   ]
  },
  {
   "cell_type": "code",
   "execution_count": null,
   "metadata": {
    "collapsed": false
   },
   "outputs": [],
   "source": [
    "#可视化样本，下面是输出了训练集中前20个样本\n",
    "fig, ax = plt.subplots(nrows=4,ncols=5,sharex='all',sharey='all')\n",
    "ax = ax.flatten()\n",
    "for i in range(20):\n",
    "    img = x_train[i].reshape(28, 28)\n",
    "    ax[i].imshow(img,cmap='Greys')\n",
    "ax[0].set_xticks([])\n",
    "ax[0].set_yticks([])\n",
    "plt.tight_layout()\n",
    "plt.show()"
   ]
  },
  {
   "cell_type": "markdown",
   "metadata": {
    "collapsed": false
   },
   "source": [
    "### 添加过程记录回调函数"
   ]
  },
  {
   "cell_type": "code",
   "execution_count": null,
   "metadata": {
    "ExecuteTime": {
     "end_time": "2024-01-16T12:04:59.187764200Z",
     "start_time": "2024-01-16T12:04:59.167761300Z"
    },
    "collapsed": false
   },
   "outputs": [],
   "source": [
    "# 定义保存和记录数据的回调器\n",
    "cp_callback = tf.keras.callbacks.ModelCheckpoint(filepath=\"./checkpoint/mnist/mnist.ckpt\",  # 保存模型权重参数\n",
    "                                                 save_weights_only=True,\n",
    "                                                 save_best_only=True)\n",
    "# 设置TensorBoard输出的回调函数\n",
    "tfbd_callback = tf.keras.callbacks.TensorBoard(log_dir=\"./logs/mnist/\")"
   ]
  },
  {
   "cell_type": "code",
   "execution_count": null,
   "metadata": {
    "ExecuteTime": {
     "end_time": "2024-01-16T12:05:17.662698Z",
     "start_time": "2024-01-16T12:05:01.367828800Z"
    },
    "collapsed": false
   },
   "outputs": [],
   "source": [
    "model.compile(optimizer=tf.keras.optimizers.Adam(learning_rate=0.001 , beta_1=0.9, beta_2=0.999),     # 'adam'  tf.keras.optimizers.Adam(learning_rate=0.01 , beta_1=0.9, beta_2=0.999)\n",
    "                loss=tf.keras.losses.SparseCategoricalCrossentropy(from_logits=False),\n",
    "                metrics=['sparse_categorical_accuracy']\n",
    "                )\n",
    "\n",
    "history =model.fit(x_train, y_train, batch_size=32, epochs=10, \n",
    "                   validation_data = (x_test, y_test), validation_freq=1, \n",
    "                   callbacks=[cp_callback, tfbd_callback])\n",
    "model.summary()"
   ]
  },
  {
   "cell_type": "code",
   "execution_count": null,
   "metadata": {},
   "outputs": [],
   "source": [
    "model.save('./checkpoint/mnist/model', save_format='tf')    # 保存模型为静态权重"
   ]
  },
  {
   "cell_type": "code",
   "execution_count": null,
   "metadata": {
    "ExecuteTime": {
     "end_time": "2024-01-16T11:59:05.333323900Z",
     "start_time": "2024-01-16T11:59:05.137646800Z"
    },
    "collapsed": false
   },
   "outputs": [],
   "source": [
    "acc = history.history['sparse_categorical_accuracy']\n",
    "val_acc = history.history['val_sparse_categorical_accuracy']\n",
    "loss = history.history['loss']\n",
    "val_loss = history.history['val_loss']\n",
    "\n",
    "plt.subplot(1, 2, 1)\n",
    "plt.plot(acc, label='Training Accuracy')\n",
    "plt.plot(val_acc, label='Validation Accuracy')\n",
    "plt.title('Training and Validation Accuracy')\n",
    "plt.legend()\n",
    "\n",
    "plt.subplot(1, 2, 2)\n",
    "plt.plot(loss, label='Training Loss')\n",
    "plt.plot(val_loss, label='Validation Loss')\n",
    "plt.title('Training and Validation Loss')\n",
    "plt.legend()\n",
    "plt.show()"
   ]
  },
  {
   "cell_type": "markdown",
   "metadata": {
    "collapsed": false
   },
   "source": [
    "## 加载模型，执行前向传播，进行一次新推理"
   ]
  },
  {
   "cell_type": "code",
   "execution_count": null,
   "metadata": {},
   "outputs": [],
   "source": [
    "# 使用原有模型进行推理，要先训练\n",
    "import cv2\n",
    "\n",
    "image_path = '../Data/MNIST/'\n",
    "\n",
    "preNum = int(input(\"place input how many jpg file while be test:\"))\n",
    "for i in range(preNum):\n",
    "    imgNum = int(input(\"place input png name:\"))\n",
    "    img_path = image_path+str(imgNum)+'.png'\n",
    "    print(\"read image:{}\".format(img_path))\n",
    "\n",
    "    img_ = cv2.imread(img_path)\n",
    "    resized_img = cv2.resize(img_, (28, 28), interpolation=cv2.INTER_AREA)\n",
    "    gray_img = cv2.cvtColor(resized_img, cv2.COLOR_BGR2GRAY)\n",
    "    # 准备图像数据，进行归一化和添加批次维度\n",
    "    img_for_prediction = gray_img.astype(np.float32) / 255.0  # 归一化到 [0, 1]\n",
    "    img_for_prediction = np.expand_dims(img_for_prediction, axis=0)  # 添加批次维度\n",
    "\n",
    "    result = model.predict(img_for_prediction)\n",
    "    predNum = tf.argmax(result, axis=1)\n",
    "    print(\"predice num is: \")\n",
    "    tf.print(predNum)"
   ]
  },
  {
   "cell_type": "code",
   "execution_count": null,
   "metadata": {
    "ExecuteTime": {
     "end_time": "2024-01-16T12:34:18.584293Z",
     "start_time": "2024-01-16T12:34:05.851210200Z"
    },
    "collapsed": false
   },
   "outputs": [],
   "source": [
    "# 定义新模型，然后加载保存好的模型参数预测\n",
    "import cv2\n",
    "\n",
    "image_path = '../Data/MNIST/'\n",
    "\n",
    "model_path = './checkpoint/mnist/model'      \n",
    "new_model = tf.keras.models.load_model(model_path)  # 从tf模型加载，无需重新实例化网络\n",
    "\n",
    "# model_path = './checkpoint/mnist/mnist.ckpt' \n",
    "# new_model = mnisModel()\n",
    "# new_model.load_weights(model_path)    # 从权重加载，需要先实例化网络再加载权重参数\n",
    "\n",
    "preNum = int(input(\"place input how many jpg file while be test:\"))\n",
    "for i in range(preNum):\n",
    "    imgNum = int(input(\"place input png name:\"))\n",
    "    img_path = image_path+str(imgNum)+'.png'\n",
    "    print(\"read image:{}\".format(img_path))\n",
    "\n",
    "    img_ = cv2.imread(img_path)\n",
    "    resized_img = cv2.resize(img_, (28, 28), interpolation=cv2.INTER_AREA)\n",
    "    gray_img = cv2.cvtColor(resized_img, cv2.COLOR_BGR2GRAY)\n",
    "    # 准备图像数据，进行归一化和添加批次维度\n",
    "    img_for_prediction = gray_img.astype(np.float32) / 255.0  # 归一化到 [0, 1]\n",
    "    img_for_prediction = np.expand_dims(img_for_prediction, axis=0)  # 添加批次维度\n",
    "\n",
    "    result = new_model.predict(img_for_prediction)\n",
    "    predNum = tf.argmax(result, axis=1)\n",
    "    print(\"predice num is: \")\n",
    "    tf.print(predNum)"
   ]
  }
 ],
 "metadata": {
  "kernelspec": {
   "display_name": "tensorflow2.6",
   "language": "python",
   "name": "python3"
  },
  "language_info": {
   "codemirror_mode": {
    "name": "ipython",
    "version": 3
   },
   "file_extension": ".py",
   "mimetype": "text/x-python",
   "name": "python",
   "nbconvert_exporter": "python",
   "pygments_lexer": "ipython3",
   "version": "3.7.12"
  }
 },
 "nbformat": 4,
 "nbformat_minor": 2
}
