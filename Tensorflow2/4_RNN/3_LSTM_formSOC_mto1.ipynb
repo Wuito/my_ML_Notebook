{
 "cells": [
  {
   "cell_type": "markdown",
   "source": [
    "# 使用LSTM预测锂离子电池SOC数据\n",
    "加载已经处理好的锂电池数据，CS2_38.csv数据来源是消费机锂离子电池，soc.csv来源是动力锂电池。\n",
    "所有原始数据均通过预处理计算成了可直接使用的数据。\n",
    "程序使用CS2电池数据，通过电压电阻数据作为输入，SOC作为输出，实现预测，针对有多维数据的复合估计预测场景。\n",
    "\n",
    "## 1、引用相关包数据"
   ],
   "metadata": {
    "collapsed": false
   }
  },
  {
   "cell_type": "code",
   "execution_count": 4,
   "metadata": {
    "collapsed": true,
    "ExecuteTime": {
     "end_time": "2024-01-25T08:51:31.474529100Z",
     "start_time": "2024-01-25T08:51:31.437937300Z"
    }
   },
   "outputs": [],
   "source": [
    "import os\n",
    "import numpy as np\n",
    "import pandas as pd\n",
    "import tensorflow as tf\n",
    "from tensorflow.keras.layers import Dropout, Dense, LSTM\n",
    "import matplotlib.pyplot as plt\n",
    "\n",
    "from sklearn.preprocessing import MinMaxScaler\n",
    "from sklearn.metrics import mean_squared_error, mean_absolute_error\n",
    "import math"
   ]
  },
  {
   "cell_type": "markdown",
   "source": [
    "## 2、加载数据并将原始数据归一化处理\n",
    "加载数据，将有效数据从表格中读取出来，这里读取电压和电阻数据，清洗原始测量数据中的无效值，然后进行格式转换和归一化，归一化的目的是为了让网络能够更快的拟合\n",
    "归一化操作时fit_transform要求输入的数据是二维及以上。\n",
    "测试数据来自原始数据中的后百分比部分\n",
    "注意所有数据形式按列排布"
   ],
   "metadata": {
    "collapsed": false
   }
  },
  {
   "cell_type": "code",
   "execution_count": 5,
   "outputs": [],
   "source": [
    "soc_csv = pd.read_csv('../Data/CS2_38.csv')  # 读文件数据\n",
    "\n",
    "test_data_rate = 0.8    # 测试数据所占的比例\n",
    "\n",
    "soc = np.array(soc_csv['SOC'])\n",
    "soc = np.nan_to_num(soc, nan = 0.5)   # 保证所有数据都是有效值，这里应该采用局部高斯采样，代码为了简化直接赋值了。\n",
    "\n",
    "voltage = np.array(soc_csv['Voltage'])\n",
    "voltage = np.nan_to_num(voltage, nan = 3.6)\n",
    "\n",
    "\n",
    "resistance = np.array(soc_csv['resistance'])\n",
    "resistance = np.nan_to_num(resistance, nan = 0.1)\n",
    "\n",
    "training_x = np.array([voltage, resistance]).T  # 注意转置，按列排布\n",
    "training_y = np.array(soc).T\n",
    "\n",
    "# 测试数据集，截取训练数据的一部分\n",
    "test_x = training_x[int(len(training_x)*(1-test_data_rate)):, :]\n",
    "test_y = training_y[int(len(training_y)*(1-test_data_rate)):]\n"
   ],
   "metadata": {
    "collapsed": false,
    "ExecuteTime": {
     "end_time": "2024-01-25T08:51:31.498107400Z",
     "start_time": "2024-01-25T08:51:31.447920100Z"
    }
   }
  },
  {
   "cell_type": "code",
   "execution_count": 6,
   "outputs": [],
   "source": [
    "# 归一化输入数据\n",
    "sc_x = MinMaxScaler(feature_range=(0, 1))  # 定义归一化：归一化到(0，1)之间\n",
    "training_x_transfrom = sc_x.fit_transform(training_x)  # 求得训练集的最大值,最小值，并在训练集上进行归一化\n",
    "testing_x_transfrom = sc_x.transform(test_x) # 利用训练集的属性对测试集进行归一化\n",
    "\n",
    "# 归一化输出数据\n",
    "sc_y = MinMaxScaler(feature_range=(0, 1))\n",
    "training_y_transfrom = sc_y.fit_transform(training_y.reshape(-1, 1))\n",
    "testing_y_transfrom = sc_y.transform(test_y.reshape(-1, 1))\n"
   ],
   "metadata": {
    "collapsed": false,
    "ExecuteTime": {
     "end_time": "2024-01-25T08:51:31.503917500Z",
     "start_time": "2024-01-25T08:51:31.457704200Z"
    }
   }
  },
  {
   "cell_type": "markdown",
   "source": [
    "## 3、对原始数据进行分组处理，便于LSTM按照组循环学习数据\n",
    "测试数据和训练数据需要根据LSTM的要求：[送入样本数， 循环核时间展开步数， 每个时间步输入特征个数]\n",
    "这里使用循环核时间展开步数为lstm_Time_expansion_step\n",
    "每个时间步输入特征个数为2，每输入60组数据随后预测下一组数据\n",
    "LSTM数据需要按照时间步分组处理，所以原始数据向下取整。"
   ],
   "metadata": {
    "collapsed": false
   }
  },
  {
   "cell_type": "code",
   "execution_count": 7,
   "outputs": [],
   "source": [
    "train_x = []\n",
    "train_y = []\n",
    "\n",
    "test_x = []\n",
    "test_y = []\n",
    "\n",
    "lstm_Time_expansion_step = 60\n",
    "\n",
    "# 对数据集向下取整，舍弃头部\n",
    "training_x_data = training_x_transfrom[len(training_x_transfrom)-\n",
    "                                       int(len(training_x_transfrom)/lstm_Time_expansion_step)\n",
    "                                       *lstm_Time_expansion_step : , :]\n",
    "testing_x_data = testing_x_transfrom[len(testing_x_transfrom)-\n",
    "                               int(len(testing_x_transfrom)/lstm_Time_expansion_step)\n",
    "                               *lstm_Time_expansion_step : , :]\n",
    "\n",
    "# 训练数据分组与随机化\n",
    "for i in range(lstm_Time_expansion_step, len(training_x_data)):\n",
    "    train_x.append(training_x_data[i - lstm_Time_expansion_step:i, :])\n",
    "    train_y.append(training_y_transfrom[i, :])\n",
    "\n",
    "train_x, train_y = np.array(train_x), np.array(train_y)\n",
    "\n",
    "# 对训练集进行打乱，打乱训练数据组可以增强网络学习的鲁棒性。\n",
    "np.random.seed(7)\n",
    "np.random.shuffle(train_x)\n",
    "np.random.seed(7)\n",
    "np.random.shuffle(train_y)\n",
    "tf.random.set_seed(7)\n",
    "\n",
    "# 设置测试数据格式\n",
    "for i in range(lstm_Time_expansion_step, len(testing_x_data)):\n",
    "    test_x.append(testing_x_data[i - lstm_Time_expansion_step:i, :])\n",
    "    test_y.append(testing_y_transfrom[i, :])\n",
    "test_x, test_y = np.array(test_x), np.array(test_y)\n",
    "\n",
    "# 检查数据格式：[送入样本数， 循环核时间展开步数， 每个时间步输入特征个数]\n",
    "train_x = np.reshape(train_x, (train_x.shape[0], lstm_Time_expansion_step, 2))\n",
    "test_x = np.reshape(test_x, (test_x.shape[0], lstm_Time_expansion_step, 2))\n"
   ],
   "metadata": {
    "collapsed": false,
    "ExecuteTime": {
     "end_time": "2024-01-25T08:51:31.508295800Z",
     "start_time": "2024-01-25T08:51:31.481979500Z"
    }
   }
  },
  {
   "cell_type": "markdown",
   "source": [
    "## 4、构建模型\n",
    "load_mode可选bool型，当为True时加载上一次的模型继续训练，当为False时从头开始训练\n",
    "注意：从头开始训练会覆盖原来已有的模型，解决可以修改存储目录"
   ],
   "metadata": {
    "collapsed": false
   }
  },
  {
   "cell_type": "code",
   "execution_count": 8,
   "outputs": [],
   "source": [
    "load_mode = False\n",
    "checkpoint_save_path = \"./checkpoint/soc_m2one/LSTM_stock.ckpt\"   # 保存模型\n",
    "tf_model_save_path = \"./checkpoint/soc_m2one/socTFmodel\"   # 保存静态模型\n",
    "log_save_path = \"./log/soc_m2one/lstm\"    # 记录日志\n",
    "\n",
    "model = tf.keras.Sequential([\n",
    "    LSTM(60, return_sequences=True),\n",
    "    Dropout(0.2),\n",
    "    LSTM(100),\n",
    "    Dropout(0.2),\n",
    "    Dense(1)\n",
    "])\n",
    "\n",
    "model.compile(optimizer=tf.keras.optimizers.Adam(0.001),\n",
    "              loss='mean_squared_error')  # 损失函数用均方误差\n",
    "# 该应用只观测loss数值，不观测准确率，所以删去metrics选项，一会在每个epoch迭代显示时只显示loss值\n",
    "\n",
    "os.makedirs(log_save_path, exist_ok=True)\n",
    "\n",
    "if load_mode:\n",
    "    if os.path.exists(checkpoint_save_path + '.index'):\n",
    "        print('-------------load the model-----------------')\n",
    "        model.load_weights(checkpoint_save_path)\n",
    "\n",
    "cp_callback = tf.keras.callbacks.ModelCheckpoint(filepath=checkpoint_save_path,\n",
    "                                                 save_weights_only=True,\n",
    "                                                 save_best_only=True,   # 存储训练过程中loss最优的数据\n",
    "                                                 monitor='val_loss')    # 使用loss作为存储的评估标准，应为这里没有用参照标签，所以不能使用acc"
   ],
   "metadata": {
    "collapsed": false,
    "ExecuteTime": {
     "end_time": "2024-01-25T08:51:32.134076200Z",
     "start_time": "2024-01-25T08:51:31.488121600Z"
    }
   }
  },
  {
   "cell_type": "markdown",
   "source": [
    "## 5、训练\n",
    "\n",
    "```\n",
    "fit: 训练\n",
    "    输入训练特征数据，标签数据，单次输入数据量，迭代次数\n",
    "    validation_split=从训练集划分多少比例数据用来测试 /  validation_data=(测试特征数据，测试标签数据)   二选一\n",
    "    validation_freq=多少次epoch测试一次\n",
    "```\n"
   ],
   "metadata": {
    "collapsed": false
   }
  },
  {
   "cell_type": "code",
   "execution_count": 9,
   "outputs": [
    {
     "name": "stdout",
     "output_type": "stream",
     "text": [
      "Epoch 1/30\n",
      "15/15 [==============================] - 6s 42ms/step - loss: 0.1009 - val_loss: 0.0174\n",
      "Epoch 2/30\n",
      "15/15 [==============================] - 0s 17ms/step - loss: 0.0155 - val_loss: 0.0088\n",
      "Epoch 3/30\n",
      "15/15 [==============================] - 0s 17ms/step - loss: 0.0104 - val_loss: 0.0072\n",
      "Epoch 4/30\n",
      "15/15 [==============================] - 0s 18ms/step - loss: 0.0085 - val_loss: 0.0069\n",
      "Epoch 5/30\n",
      "15/15 [==============================] - 0s 17ms/step - loss: 0.0074 - val_loss: 0.0041\n",
      "Epoch 6/30\n",
      "15/15 [==============================] - 0s 17ms/step - loss: 0.0064 - val_loss: 0.0030\n",
      "Epoch 7/30\n",
      "15/15 [==============================] - 0s 17ms/step - loss: 0.0046 - val_loss: 0.0027\n",
      "Epoch 8/30\n",
      "15/15 [==============================] - 0s 17ms/step - loss: 0.0051 - val_loss: 0.0060\n",
      "Epoch 9/30\n",
      "15/15 [==============================] - 0s 17ms/step - loss: 0.0052 - val_loss: 0.0022\n",
      "Epoch 10/30\n",
      "15/15 [==============================] - 0s 17ms/step - loss: 0.0046 - val_loss: 0.0020\n",
      "Epoch 11/30\n",
      "15/15 [==============================] - 0s 17ms/step - loss: 0.0042 - val_loss: 0.0038\n",
      "Epoch 12/30\n",
      "15/15 [==============================] - 0s 17ms/step - loss: 0.0040 - val_loss: 0.0023\n",
      "Epoch 13/30\n",
      "15/15 [==============================] - 0s 17ms/step - loss: 0.0043 - val_loss: 0.0029\n",
      "Epoch 14/30\n",
      "15/15 [==============================] - 0s 17ms/step - loss: 0.0040 - val_loss: 0.0018\n",
      "Epoch 15/30\n",
      "15/15 [==============================] - 0s 18ms/step - loss: 0.0034 - val_loss: 0.0015\n",
      "Epoch 16/30\n",
      "15/15 [==============================] - 0s 17ms/step - loss: 0.0040 - val_loss: 0.0018\n",
      "Epoch 17/30\n",
      "15/15 [==============================] - 0s 18ms/step - loss: 0.0040 - val_loss: 0.0031\n",
      "Epoch 18/30\n",
      "15/15 [==============================] - 0s 16ms/step - loss: 0.0038 - val_loss: 0.0022\n",
      "Epoch 19/30\n",
      "15/15 [==============================] - 0s 17ms/step - loss: 0.0036 - val_loss: 0.0022\n",
      "Epoch 20/30\n",
      "15/15 [==============================] - 0s 17ms/step - loss: 0.0036 - val_loss: 0.0026\n",
      "Epoch 21/30\n",
      "15/15 [==============================] - 0s 16ms/step - loss: 0.0033 - val_loss: 0.0028\n",
      "Epoch 22/30\n",
      "15/15 [==============================] - 0s 17ms/step - loss: 0.0036 - val_loss: 0.0032\n",
      "Epoch 23/30\n",
      "15/15 [==============================] - 0s 17ms/step - loss: 0.0038 - val_loss: 0.0041\n",
      "Epoch 24/30\n",
      "15/15 [==============================] - 0s 18ms/step - loss: 0.0041 - val_loss: 0.0018\n",
      "Epoch 25/30\n",
      "15/15 [==============================] - 0s 17ms/step - loss: 0.0041 - val_loss: 0.0017\n",
      "Epoch 26/30\n",
      "15/15 [==============================] - 0s 16ms/step - loss: 0.0034 - val_loss: 0.0027\n",
      "Epoch 27/30\n",
      "15/15 [==============================] - 0s 17ms/step - loss: 0.0031 - val_loss: 0.0021\n",
      "Epoch 28/30\n",
      "15/15 [==============================] - 0s 18ms/step - loss: 0.0034 - val_loss: 0.0039\n",
      "Epoch 29/30\n",
      "15/15 [==============================] - 0s 18ms/step - loss: 0.0037 - val_loss: 0.0020\n",
      "Epoch 30/30\n",
      "15/15 [==============================] - 0s 16ms/step - loss: 0.0029 - val_loss: 0.0020\n",
      "Model: \"sequential\"\n",
      "_________________________________________________________________\n",
      "Layer (type)                 Output Shape              Param #   \n",
      "=================================================================\n",
      "lstm (LSTM)                  (None, 60, 60)            15120     \n",
      "_________________________________________________________________\n",
      "dropout (Dropout)            (None, 60, 60)            0         \n",
      "_________________________________________________________________\n",
      "lstm_1 (LSTM)                (None, 100)               64400     \n",
      "_________________________________________________________________\n",
      "dropout_1 (Dropout)          (None, 100)               0         \n",
      "_________________________________________________________________\n",
      "dense (Dense)                (None, 1)                 101       \n",
      "=================================================================\n",
      "Total params: 79,621\n",
      "Trainable params: 79,621\n",
      "Non-trainable params: 0\n",
      "_________________________________________________________________\n"
     ]
    }
   ],
   "source": [
    "history = model.fit(train_x, train_y, batch_size=64, epochs=50, validation_data=(test_x, test_y), validation_freq=1,\n",
    "                    callbacks=[cp_callback])\n",
    "model.summary()"
   ],
   "metadata": {
    "collapsed": false,
    "ExecuteTime": {
     "end_time": "2024-01-25T08:51:45.495003700Z",
     "start_time": "2024-01-25T08:51:32.138084100Z"
    }
   }
  },
  {
   "cell_type": "markdown",
   "source": [
    "## 6、保存模型权重\n",
    "在上面的训练过程中已经使用回调函数存储了index权重，可以重新实例化模型后加载index权重进行前向推理\n",
    "这里存储的模型是pd格式的静态图，包含了网络结构，权重参数，使用时无需实例化模型，可以直接导入计算，这样设计便于使用部署"
   ],
   "metadata": {
    "collapsed": false
   }
  },
  {
   "cell_type": "code",
   "execution_count": 10,
   "outputs": [
    {
     "name": "stderr",
     "output_type": "stream",
     "text": [
      "WARNING:absl:Found untraced functions such as lstm_cell_layer_call_and_return_conditional_losses, lstm_cell_layer_call_fn, lstm_cell_1_layer_call_and_return_conditional_losses, lstm_cell_1_layer_call_fn, lstm_cell_layer_call_fn while saving (showing 5 of 10). These functions will not be directly callable after loading.\n"
     ]
    },
    {
     "name": "stdout",
     "output_type": "stream",
     "text": [
      "INFO:tensorflow:Assets written to: ./checkpoint/soc_m2one/socTFmodel\\assets\n"
     ]
    },
    {
     "name": "stderr",
     "output_type": "stream",
     "text": [
      "INFO:tensorflow:Assets written to: ./checkpoint/soc_m2one/socTFmodel\\assets\n"
     ]
    }
   ],
   "source": [
    "model.save(tf_model_save_path, save_format='tf')    # 保存模型为静态权重\n",
    "\n",
    "file = open(log_save_path+'/weights.txt', 'w')  # 参数提取\n",
    "for v in model.trainable_variables:\n",
    "    file.write(str(v.name) + '\\n')\n",
    "    file.write(str(v.shape) + '\\n')\n",
    "    file.write(str(v.numpy()) + '\\n')\n",
    "file.close()"
   ],
   "metadata": {
    "collapsed": false,
    "ExecuteTime": {
     "end_time": "2024-01-25T08:51:49.868426100Z",
     "start_time": "2024-01-25T08:51:45.498129200Z"
    }
   }
  },
  {
   "cell_type": "markdown",
   "source": [
    "## 7、绘制损失数据曲线"
   ],
   "metadata": {
    "collapsed": false
   }
  },
  {
   "cell_type": "code",
   "execution_count": 11,
   "outputs": [
    {
     "data": {
      "text/plain": "<Figure size 640x480 with 1 Axes>",
      "image/png": "[encoded data removed]"
     },
     "metadata": {},
     "output_type": "display_data"
    }
   ],
   "source": [
    "loss = history.history['loss']\n",
    "val_loss = history.history['val_loss']\n",
    "\n",
    "plt.plot(loss, label='Training Loss')   # 训练集损失\n",
    "plt.plot(val_loss, label='Validation Loss') # 验证集损失\n",
    "plt.title('Training and Validation Loss')\n",
    "plt.legend()\n",
    "plt.savefig(log_save_path+\"/loss.png\", dpi=60)\n",
    "plt.show()"
   ],
   "metadata": {
    "collapsed": false,
    "ExecuteTime": {
     "end_time": "2024-01-25T08:51:50.041436400Z",
     "start_time": "2024-01-25T08:51:49.868426100Z"
    }
   }
  },
  {
   "cell_type": "markdown",
   "source": [
    "## 8、预测推理"
   ],
   "metadata": {
    "collapsed": false
   }
  },
  {
   "cell_type": "code",
   "execution_count": 16,
   "outputs": [
    {
     "data": {
      "text/plain": "<Figure size 640x480 with 1 Axes>",
      "image/png": "[encoded data removed]"
     },
     "metadata": {},
     "output_type": "display_data"
    },
    {
     "name": "stdout",
     "output_type": "stream",
     "text": [
      "均方误差: 0.001158\n",
      "均方根误差: 0.034022\n",
      "平均绝对误差: 0.028775\n"
     ]
    }
   ],
   "source": [
    "# 测试集输入模型进行预测\n",
    "predicted_stock_price = model.predict(test_x)\n",
    "# 对预测数据还原---从（0，1）反归一化到原始范围\n",
    "predicted_stock_price = sc_y.inverse_transform(predicted_stock_price.reshape(-1, 1))\n",
    "# 对真实数据还原---从（0，1）反归一化到原始范围\n",
    "real_stock_price = sc_y.inverse_transform(test_y.reshape(-1,1))\n",
    "# 画出真实数据和预测数据的对比曲线\n",
    "plt.plot(real_stock_price, color='blue', label='LiBattery soc')\n",
    "plt.plot(predicted_stock_price, color='red', label='Predicted LiBattery soc')\n",
    "plt.title('LiBattery Stock Price Prediction')\n",
    "plt.xlabel('Time')\n",
    "plt.ylabel('LiBattery soc(%)')\n",
    "plt.legend()\n",
    "plt.savefig(log_save_path+\"/predict.png\", dpi=120)\n",
    "plt.show()\n",
    "\n",
    "# calculate MSE 均方误差 ---> E[(预测值-真实值)^2] (预测值减真实值求平方后求均值)\n",
    "mse = mean_squared_error(predicted_stock_price, real_stock_price)\n",
    "# calculate RMSE 均方根误差--->sqrt[MSE]    (对均方误差开方)\n",
    "rmse = math.sqrt(mean_squared_error(predicted_stock_price, real_stock_price))\n",
    "# calculate MAE 平均绝对误差----->E[|预测值-真实值|](预测值减真实值求绝对值后求均值）\n",
    "mae = mean_absolute_error(predicted_stock_price, real_stock_price)\n",
    "print('均方误差: %.6f' % mse)\n",
    "print('均方根误差: %.6f' % rmse)\n",
    "print('平均绝对误差: %.6f' % mae)"
   ],
   "metadata": {
    "collapsed": false,
    "ExecuteTime": {
     "end_time": "2024-01-25T08:54:49.767970900Z",
     "start_time": "2024-01-25T08:54:49.293281800Z"
    }
   }
  }
 ],
 "metadata": {
  "kernelspec": {
   "display_name": "Python 3",
   "language": "python",
   "name": "python3"
  },
  "language_info": {
   "codemirror_mode": {
    "name": "ipython",
    "version": 2
   },
   "file_extension": ".py",
   "mimetype": "text/x-python",
   "name": "python",
   "nbconvert_exporter": "python",
   "pygments_lexer": "ipython2",
   "version": "2.7.6"
  }
 },
 "nbformat": 4,
 "nbformat_minor": 0
}
