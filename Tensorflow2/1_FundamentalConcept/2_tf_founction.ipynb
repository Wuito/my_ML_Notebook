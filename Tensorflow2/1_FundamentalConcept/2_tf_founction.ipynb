{
 "cells": [
  {
   "cell_type": "markdown",
   "source": [
    "# 基于基础的Tensorflow操作，认识重要的数据维度处理"
   ],
   "metadata": {
    "collapsed": false
   }
  },
  {
   "cell_type": "code",
   "execution_count": 1,
   "outputs": [],
   "source": [
    "import numpy as np\n",
    "import tensorflow as tf\n",
    "import matplotlib.pyplot as plt"
   ],
   "metadata": {
    "collapsed": false,
    "ExecuteTime": {
     "end_time": "2024-01-19T13:39:54.265207800Z",
     "start_time": "2024-01-19T13:39:51.144366200Z"
    }
   }
  },
  {
   "cell_type": "markdown",
   "source": [
    "查看tensor数据类型"
   ],
   "metadata": {
    "collapsed": false
   }
  },
  {
   "cell_type": "code",
   "execution_count": 2,
   "outputs": [
    {
     "name": "stdout",
     "output_type": "stream",
     "text": [
      "tf.Tensor([1 2], shape=(2,), dtype=int64)\n",
      "tf.Tensor([0. 0. 0.], shape=(3,), dtype=float32) tf.Tensor(\n",
      "[[1. 1. 1.]\n",
      " [1. 1. 1.]\n",
      " [1. 1. 1.]], shape=(3, 3), dtype=float32) tf.Tensor(\n",
      "[[3 3 3]\n",
      " [3 3 3]\n",
      " [3 3 3]], shape=(3, 3), dtype=int32)\n"
     ]
    }
   ],
   "source": [
    "num = tf.constant([1,2], dtype=tf.int64)    # 常量型\n",
    "usr_bool = tf.constant([True])              # 布尔型\n",
    "usr_string = tf.constant(\"Hello world!\")    # 字符型\n",
    "print(num)\n",
    "\n",
    "a1 = tf.zeros(3)\n",
    "a2 = tf.ones([3,3])\n",
    "a3 = tf.fill([3,3], 3)  # 指定数生成\n",
    "print(a1, a2, a3)"
   ],
   "metadata": {
    "collapsed": false,
    "ExecuteTime": {
     "end_time": "2024-01-19T13:39:57.823514800Z",
     "start_time": "2024-01-19T13:39:54.267237300Z"
    }
   }
  },
  {
   "cell_type": "markdown",
   "source": [
    "随机张量的生成"
   ],
   "metadata": {
    "collapsed": false
   }
  },
  {
   "cell_type": "code",
   "execution_count": 3,
   "outputs": [
    {
     "name": "stdout",
     "output_type": "stream",
     "text": [
      "tf.Tensor(\n",
      "[[ 0.03303133 -0.70949125]\n",
      " [-0.71692544  0.46476275]], shape=(2, 2), dtype=float32) tf.Tensor(\n",
      "[[ 0.5336657  -0.57882977]\n",
      " [ 0.9702971  -1.6633611 ]], shape=(2, 2), dtype=float32)\n"
     ]
    }
   ],
   "source": [
    "a1 = tf.random.normal([2,2], mean=0, stddev=1)  # 生成正态分布随机数张量，输入参数：维度，均值，标准差\n",
    "a2 = tf.random.truncated_normal([2,2], mean=0, stddev=1) # 生成截断式正态分布随机数张量，输入参数：维度，均值，标准差，输出数据均在mean±2*stddev之内\n",
    "print(a1, a2)"
   ],
   "metadata": {
    "collapsed": false,
    "ExecuteTime": {
     "end_time": "2024-01-19T13:39:57.868051700Z",
     "start_time": "2024-01-19T13:39:57.826020300Z"
    }
   }
  },
  {
   "cell_type": "code",
   "execution_count": 4,
   "outputs": [
    {
     "name": "stdout",
     "output_type": "stream",
     "text": [
      "usr_random1= 0.417022004702574 \r\n",
      " usr_random2= [[7.20324493e-01 1.14374817e-04 3.02332573e-01]\n",
      " [1.46755891e-01 9.23385948e-02 1.86260211e-01]]\n"
     ]
    }
   ],
   "source": [
    "# 生成[0,1)内的随机数\n",
    "rdm = np.random.RandomState(seed=1)     # 定义随机数生成器rdm，使用随机数种子seed=1\n",
    "usr_random1 = rdm.rand()    # 无输入维度时返回一个常量\n",
    "usr_random2 = rdm.rand(2, 3) # 返回2行3列的随机数矩阵\n",
    "print(\"usr_random1= {} \\r\\n usr_random2= {}\".format(usr_random1, usr_random2))"
   ],
   "metadata": {
    "collapsed": false,
    "ExecuteTime": {
     "end_time": "2024-01-19T13:39:57.869035300Z",
     "start_time": "2024-01-19T13:39:57.842401900Z"
    }
   }
  },
  {
   "cell_type": "code",
   "execution_count": 5,
   "outputs": [
    {
     "name": "stdout",
     "output_type": "stream",
     "text": [
      "[[1 2 3]\n",
      " [4 5 6]]\n"
     ]
    }
   ],
   "source": [
    "# 数组垂直叠加\n",
    "a1 = np.array([1, 2, 3])\n",
    "a2 = np.array([4, 5, 6])\n",
    "b = np.vstack((a1, a2))\n",
    "print(b)"
   ],
   "metadata": {
    "collapsed": false,
    "ExecuteTime": {
     "end_time": "2024-01-19T13:39:57.873593900Z",
     "start_time": "2024-01-19T13:39:57.857473200Z"
    }
   }
  },
  {
   "cell_type": "code",
   "execution_count": 6,
   "outputs": [
    {
     "name": "stdout",
     "output_type": "stream",
     "text": [
      "[[1. 1. 1. 1. 1. 1.]\n",
      " [2. 2. 2. 2. 2. 2.]]\n",
      "[[3.  3.5 4.  4.5 5.  5.5]\n",
      " [3.  3.5 4.  4.5 5.  5.5]]\n",
      "[[1.  3. ]\n",
      " [1.  3.5]\n",
      " [1.  4. ]\n",
      " [1.  4.5]\n",
      " [1.  5. ]\n",
      " [1.  5.5]\n",
      " [2.  3. ]\n",
      " [2.  3.5]\n",
      " [2.  4. ]\n",
      " [2.  4.5]\n",
      " [2.  5. ]\n",
      " [2.  5.5]]\n"
     ]
    }
   ],
   "source": [
    "# 范围数组生成，数组拉伸，多数组配对组合\n",
    "a1, a2 = np.mgrid[1:3:1, 3:6:0.5]\n",
    "print(a1)\n",
    "print(a2)\n",
    "\n",
    "b = np.c_[np.ravel(a1), np.ravel(a2)]   # a1.ravel()执行二维变一维拉伸，np.c_进行组合操作\n",
    "print(b)"
   ],
   "metadata": {
    "collapsed": false,
    "ExecuteTime": {
     "end_time": "2024-01-19T13:39:57.885114700Z",
     "start_time": "2024-01-19T13:39:57.873053400Z"
    }
   }
  },
  {
   "cell_type": "markdown",
   "source": [
    "从numpy中导入数据"
   ],
   "metadata": {
    "collapsed": false
   }
  },
  {
   "cell_type": "code",
   "execution_count": 7,
   "outputs": [
    {
     "name": "stdout",
     "output_type": "stream",
     "text": [
      "[0 1 2 3 4]\n",
      "tf.Tensor([0 1 2 3 4], shape=(5,), dtype=int64)\n"
     ]
    }
   ],
   "source": [
    "a = np.arange(0, 5)\n",
    "b = tf.convert_to_tensor(a, dtype=tf.int64)\n",
    "print(a)\n",
    "print(b)"
   ],
   "metadata": {
    "collapsed": false,
    "ExecuteTime": {
     "end_time": "2024-01-19T13:39:57.962205900Z",
     "start_time": "2024-01-19T13:39:57.888372400Z"
    }
   }
  },
  {
   "cell_type": "markdown",
   "source": [
    "## 常用函数\n",
    "\n",
    "#### 张量处理类"
   ],
   "metadata": {
    "collapsed": false
   }
  },
  {
   "cell_type": "code",
   "execution_count": 8,
   "outputs": [
    {
     "name": "stdout",
     "output_type": "stream",
     "text": [
      "tf.Tensor([1. 2. 3.], shape=(3,), dtype=float64)\n",
      "tf.Tensor([1 2 3], shape=(3,), dtype=int64)\n",
      "tf.Tensor(1, shape=(), dtype=int64) tf.Tensor(3, shape=(), dtype=int64)\n"
     ]
    }
   ],
   "source": [
    "a1 = tf.constant([1,2,3], dtype=tf.float64)\n",
    "print(a1)\n",
    "a2 = tf.cast(a1, tf.int64)  # 强制数据类型转换\n",
    "print(a2)\n",
    "\n",
    "print(tf.reduce_min(a2), tf.reduce_max(a2)) # 查找张量数据中的最小值和最大值"
   ],
   "metadata": {
    "collapsed": false,
    "ExecuteTime": {
     "end_time": "2024-01-19T13:39:57.977234900Z",
     "start_time": "2024-01-19T13:39:57.905486900Z"
    }
   }
  },
  {
   "cell_type": "code",
   "execution_count": 9,
   "outputs": [
    {
     "name": "stdout",
     "output_type": "stream",
     "text": [
      "tf.Tensor(\n",
      "[[1 2 3]\n",
      " [2 3 4]], shape=(2, 3), dtype=int32)\n",
      "tf.Tensor([2 3 4], shape=(3,), dtype=int32)\n",
      "tf.Tensor([6 9], shape=(2,), dtype=int32)\n"
     ]
    }
   ],
   "source": [
    "a1 = tf.constant([[1,2,3],[2,3,4]])\n",
    "print(a1)\n",
    "print(tf.reduce_max(a1, axis=0))    # 按照列查找最大的行\n",
    "print(tf.reduce_sum(a1,axis=1))     # 按照行计算各列的和"
   ],
   "metadata": {
    "collapsed": false,
    "ExecuteTime": {
     "end_time": "2024-01-19T13:39:57.980231200Z",
     "start_time": "2024-01-19T13:39:57.918067500Z"
    }
   }
  },
  {
   "cell_type": "code",
   "execution_count": 10,
   "outputs": [
    {
     "name": "stdout",
     "output_type": "stream",
     "text": [
      "[[1 2 3]\n",
      " [2 3 4]\n",
      " [5 6 7]\n",
      " [7 8 2]]\n",
      "tf.Tensor([3 3 2], shape=(3,), dtype=int64)\n",
      "tf.Tensor([2 2 2 1], shape=(4,), dtype=int64)\n"
     ]
    }
   ],
   "source": [
    "# 张量数据索引\n",
    "test = np.array([[1, 2, 3],[2, 3, 4],[5, 6, 7], [7, 8, 2]])\n",
    "print(test)\n",
    "print(tf.argmax(test, axis=0))  # 按列查找，找到每一列的最大值序列号\n",
    "print(tf.argmax(test, axis=1))  # 按行查找，找到每一行的最大值序列号"
   ],
   "metadata": {
    "collapsed": false,
    "ExecuteTime": {
     "end_time": "2024-01-19T13:39:57.980231200Z",
     "start_time": "2024-01-19T13:39:57.934279900Z"
    }
   }
  },
  {
   "cell_type": "markdown",
   "source": [
    "#### 数学运算类"
   ],
   "metadata": {
    "collapsed": false
   }
  },
  {
   "cell_type": "code",
   "execution_count": 11,
   "outputs": [
    {
     "name": "stdout",
     "output_type": "stream",
     "text": [
      "tf.Tensor(\n",
      "[[3 5 7]\n",
      " [3 5 7]], shape=(2, 3), dtype=int32)\n",
      "tf.Tensor(\n",
      "[[-1 -1 -1]\n",
      " [-1 -1 -1]], shape=(2, 3), dtype=int32)\n",
      "tf.Tensor(\n",
      "[[ 2  6 12]\n",
      " [ 2  6 12]], shape=(2, 3), dtype=int32)\n",
      "tf.Tensor(\n",
      "[[1. 1. 1.]\n",
      " [1. 1. 1.]], shape=(2, 3), dtype=float64)\n"
     ]
    }
   ],
   "source": [
    "a1 = tf.constant([[1,2,3],[1,2,3]])\n",
    "a2 = tf.constant([[2,3,4],[2,3,4]])\n",
    "print(tf.add(a1, a2))   # 加\n",
    "print(tf.subtract(a1, a2))  # 减\n",
    "print(tf.multiply(a1, a2))  # 乘\n",
    "print(tf.divide(a1, a1))    # 除"
   ],
   "metadata": {
    "collapsed": false,
    "ExecuteTime": {
     "end_time": "2024-01-19T13:39:57.981231900Z",
     "start_time": "2024-01-19T13:39:57.962205900Z"
    }
   }
  },
  {
   "cell_type": "code",
   "execution_count": 12,
   "outputs": [
    {
     "name": "stdout",
     "output_type": "stream",
     "text": [
      "tf.Tensor([[3. 3. 3.]], shape=(1, 3), dtype=float32)\n",
      "tf.Tensor([[27. 27. 27.]], shape=(1, 3), dtype=float32)\n",
      "tf.Tensor([[9. 9. 9.]], shape=(1, 3), dtype=float32)\n",
      "tf.Tensor([[9. 9. 9.]], shape=(1, 3), dtype=float32)\n"
     ]
    }
   ],
   "source": [
    "a1 = tf.fill([1,3], 3.)  # 这里的指定值为3. 小数点是为了生成float32类型数据\n",
    "print(a1)\n",
    "print(tf.pow(a1, 3))    # 开三次方根\n",
    "print(tf.square(a1))    # 平方\n",
    "print(tf.square(a1))    # 开方"
   ],
   "metadata": {
    "collapsed": false,
    "ExecuteTime": {
     "end_time": "2024-01-19T13:39:57.981231900Z",
     "start_time": "2024-01-19T13:39:57.977234900Z"
    }
   }
  },
  {
   "cell_type": "code",
   "execution_count": 13,
   "outputs": [
    {
     "name": "stdout",
     "output_type": "stream",
     "text": [
      "tf.Tensor(\n",
      "[[6. 6. 6.]\n",
      " [6. 6. 6.]\n",
      " [6. 6. 6.]], shape=(3, 3), dtype=float32)\n"
     ]
    }
   ],
   "source": [
    "a = tf.ones([3, 2])     # 3行2列\n",
    "b = tf.fill([2, 3], 3.) # 2行3列\n",
    "print(tf.matmul(a, b))  # 矩阵叉乘得6行6列，叉乘的两个矩阵，前者的列数必须和后者的行数相等"
   ],
   "metadata": {
    "collapsed": false,
    "ExecuteTime": {
     "end_time": "2024-01-19T13:39:59.280500800Z",
     "start_time": "2024-01-19T13:39:57.981231900Z"
    }
   }
  },
  {
   "cell_type": "markdown",
   "source": [
    "#### 网络训练类"
   ],
   "metadata": {
    "collapsed": false
   }
  },
  {
   "cell_type": "code",
   "execution_count": 14,
   "outputs": [
    {
     "data": {
      "text/plain": "<tf.Variable 'Variable:0' shape=(2, 2) dtype=float32, numpy=\narray([[-1.1148822 , -1.7017046 ],\n       [-0.9051345 ,  0.50478387]], dtype=float32)>"
     },
     "execution_count": 14,
     "metadata": {},
     "output_type": "execute_result"
    }
   ],
   "source": [
    "tf.Variable(tf.random.normal([2,2],mean=0,stddev=1))    # 标记可以用于训练修改的权重参数，可以对应的生成单位神经元"
   ],
   "metadata": {
    "collapsed": false,
    "ExecuteTime": {
     "end_time": "2024-01-19T13:39:59.340368100Z",
     "start_time": "2024-01-19T13:39:59.284501100Z"
    }
   }
  },
  {
   "cell_type": "code",
   "execution_count": 15,
   "outputs": [
    {
     "name": "stdout",
     "output_type": "stream",
     "text": [
      "(<tf.Tensor: shape=(2,), dtype=int32, numpy=array([12, 13])>, <tf.Tensor: shape=(), dtype=int32, numpy=0>)\n",
      "(<tf.Tensor: shape=(2,), dtype=int32, numpy=array([15, 16])>, <tf.Tensor: shape=(), dtype=int32, numpy=1>)\n",
      "(<tf.Tensor: shape=(2,), dtype=int32, numpy=array([20, 21])>, <tf.Tensor: shape=(), dtype=int32, numpy=1>)\n",
      "(<tf.Tensor: shape=(2,), dtype=int32, numpy=array([10, 11])>, <tf.Tensor: shape=(), dtype=int32, numpy=0>)\n"
     ]
    }
   ],
   "source": [
    "# data = tf.data.Dataset.from_tensor_slices((特征数据, 标签数据)) 可以直接输入numpy或者tensor格式的数据\n",
    "features = tf.constant([[12,13], [15,16], [20,21], [10,11]])    # 特征数据\n",
    "labels = tf.constant([0, 1, 1, 0])          # 标签\n",
    "dataset = tf.data.Dataset.from_tensor_slices((features, labels))    # 特征-标签，对应结合\n",
    "for element in dataset:\n",
    "    print(element)  # 输出"
   ],
   "metadata": {
    "collapsed": false,
    "ExecuteTime": {
     "end_time": "2024-01-19T13:39:59.365011800Z",
     "start_time": "2024-01-19T13:39:59.299567800Z"
    }
   }
  },
  {
   "cell_type": "markdown",
   "source": [
    "反向传播"
   ],
   "metadata": {
    "collapsed": false
   }
  },
  {
   "cell_type": "code",
   "execution_count": 16,
   "outputs": [
    {
     "name": "stdout",
     "output_type": "stream",
     "text": [
      "tf.Tensor(6.0, shape=(), dtype=float32)\n"
     ]
    }
   ],
   "source": [
    "with tf.GradientTape() as tape: # 记录上下文微分信息\n",
    "    w = tf.Variable(tf.constant(3.0))   # 可变参数，初值为3.0\n",
    "    loss = tf.pow(w, 2) # 损失函数\n",
    "grad = tape.gradient(loss, w)   # 损失函数对w求导\n",
    "print(grad)"
   ],
   "metadata": {
    "collapsed": false,
    "ExecuteTime": {
     "end_time": "2024-01-19T13:39:59.365011800Z",
     "start_time": "2024-01-19T13:39:59.329794500Z"
    }
   }
  },
  {
   "cell_type": "code",
   "execution_count": 17,
   "outputs": [
    {
     "name": "stdout",
     "output_type": "stream",
     "text": [
      "0 one\n",
      "1 two\n",
      "2 three\n"
     ]
    }
   ],
   "source": [
    "# 枚举列表\n",
    "data = ['one', 'two', 'three']\n",
    "for i, element in enumerate(data):  # 返回的第一个是序列号，第二个是内容\n",
    "    print(i, element)"
   ],
   "metadata": {
    "collapsed": false,
    "ExecuteTime": {
     "end_time": "2024-01-19T13:39:59.365011800Z",
     "start_time": "2024-01-19T13:39:59.357005100Z"
    }
   }
  },
  {
   "cell_type": "code",
   "execution_count": 18,
   "outputs": [
    {
     "name": "stdout",
     "output_type": "stream",
     "text": [
      "tf.Tensor([1 2 3 4 5], shape=(5,), dtype=int32)\n"
     ]
    }
   ],
   "source": [
    "# 条件循环\n",
    "a = tf.constant([1, 2, 3, 4, 5])\n",
    "b = tf.constant([0, 1, 3, 4, 5])\n",
    "c = tf.where(tf.greater(a, b), a, b)    # 如果条件为真返回第一个值，条件假返回第二个值 ， greater比大小\n",
    "print(c)"
   ],
   "metadata": {
    "collapsed": false,
    "ExecuteTime": {
     "end_time": "2024-01-19T13:39:59.436567600Z",
     "start_time": "2024-01-19T13:39:59.363013100Z"
    }
   }
  },
  {
   "cell_type": "markdown",
   "source": [
    "独热码通常在聚类的算法中使用"
   ],
   "metadata": {
    "collapsed": false
   }
  },
  {
   "cell_type": "code",
   "execution_count": 19,
   "outputs": [
    {
     "name": "stdout",
     "output_type": "stream",
     "text": [
      "tf.Tensor(\n",
      "[[0. 1. 0. 0.]\n",
      " [1. 0. 0. 0.]\n",
      " [0. 0. 0. 0.]\n",
      " [0. 0. 0. 1.]], shape=(4, 4), dtype=float32)\n"
     ]
    }
   ],
   "source": [
    "# 独热码生成\n",
    "classes = 4     # 标签数\n",
    "labels = tf.constant([1, 0, 6 ,3])  # 输入标签数据\n",
    "output = tf.one_hot(labels, depth=classes)  # 独热码转换\n",
    "print(output)"
   ],
   "metadata": {
    "collapsed": false,
    "ExecuteTime": {
     "end_time": "2024-01-19T13:39:59.440471400Z",
     "start_time": "2024-01-19T13:39:59.376428800Z"
    }
   }
  },
  {
   "cell_type": "markdown",
   "source": [
    "概率分布转化 $\\ softmax$"
   ],
   "metadata": {
    "collapsed": false
   }
  },
  {
   "cell_type": "code",
   "execution_count": 20,
   "outputs": [
    {
     "name": "stdout",
     "output_type": "stream",
     "text": [
      "data [ 1.01  2.02 -1.11], after softmax is [0.2586899  0.7102592  0.03105096]\n"
     ]
    }
   ],
   "source": [
    "# softmax()\n",
    "y = tf.constant([1.01, 2.02, -1.11])\n",
    "y_out = tf.nn.softmax(y)\n",
    "print(\"data {}, after softmax is {}\".format(y, y_out))"
   ],
   "metadata": {
    "collapsed": false,
    "ExecuteTime": {
     "end_time": "2024-01-19T13:39:59.440471400Z",
     "start_time": "2024-01-19T13:39:59.393457200Z"
    }
   }
  },
  {
   "cell_type": "markdown",
   "source": [
    "反向传播更新参数"
   ],
   "metadata": {
    "collapsed": false
   }
  },
  {
   "cell_type": "code",
   "execution_count": 21,
   "outputs": [
    {
     "name": "stdout",
     "output_type": "stream",
     "text": [
      "<tf.Variable 'Variable:0' shape=() dtype=int32, numpy=3>\n"
     ]
    }
   ],
   "source": [
    "# 跟新参数\n",
    "w = tf.Variable(4)\n",
    "w.assign_sub(1)\n",
    "print(w)"
   ],
   "metadata": {
    "collapsed": false,
    "ExecuteTime": {
     "end_time": "2024-01-19T13:39:59.440471400Z",
     "start_time": "2024-01-19T13:39:59.409186100Z"
    }
   }
  }
 ],
 "metadata": {
  "kernelspec": {
   "display_name": "Python 3",
   "language": "python",
   "name": "python3"
  },
  "language_info": {
   "codemirror_mode": {
    "name": "ipython",
    "version": 2
   },
   "file_extension": ".py",
   "mimetype": "text/x-python",
   "name": "python",
   "nbconvert_exporter": "python",
   "pygments_lexer": "ipython2",
   "version": "2.7.6"
  }
 },
 "nbformat": 4,
 "nbformat_minor": 0
}
