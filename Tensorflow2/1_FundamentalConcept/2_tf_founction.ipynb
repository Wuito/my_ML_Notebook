{
 "cells": [
  {
   "cell_type": "code",
   "execution_count": 1,
   "metadata": {
    "collapsed": true,
    "ExecuteTime": {
     "end_time": "2024-01-13T08:45:23.207672200Z",
     "start_time": "2024-01-13T08:45:20.858377500Z"
    }
   },
   "outputs": [],
   "source": [
    "import numpy as np\n",
    "import tensorflow as tf\n",
    "import matplotlib.pyplot as plt"
   ]
  },
  {
   "cell_type": "markdown",
   "source": [
    "查看tensor数据类型"
   ],
   "metadata": {
    "collapsed": false
   }
  },
  {
   "cell_type": "code",
   "execution_count": null,
   "outputs": [],
   "source": [
    "num = tf.constant([1,2], dtype=tf.int64)    # 常量型\n",
    "usr_bool = tf.constant([True])              # 布尔型\n",
    "usr_string = tf.constant(\"Hello world!\")    # 字符型\n",
    "print(num)\n",
    "\n",
    "a1 = tf.zeros(3)\n",
    "a2 = tf.ones([3,3])\n",
    "a3 = tf.fill([3,3], 3)  # 指定数\n",
    "print(a1, a2, a3)"
   ],
   "metadata": {
    "collapsed": false
   }
  },
  {
   "cell_type": "code",
   "execution_count": null,
   "outputs": [],
   "source": [
    "a1 = tf.random.normal([2,2], mean=0, stddev=1)  # 生成正态分布随机数张量，输入参数：维度，均值，标准差\n",
    "a2 = tf.random.truncated_normal([2,2], mean=0, stddev=1) # 生成截断式正态分布随机数张量，输入参数：维度，均值，标准差，输出数据均在mean±2*stddev之内\n",
    "print(a1, a2)"
   ],
   "metadata": {
    "collapsed": false
   }
  },
  {
   "cell_type": "code",
   "execution_count": 6,
   "outputs": [
    {
     "name": "stdout",
     "output_type": "stream",
     "text": [
      "usr_random1= 0.417022004702574 \n",
      " usr_random2= [[7.20324493e-01 1.14374817e-04 3.02332573e-01]\n",
      " [1.46755891e-01 9.23385948e-02 1.86260211e-01]]\n"
     ]
    }
   ],
   "source": [
    "# 生成[0,1)内的随机数\n",
    "rdm = np.random.RandomState(seed=1)     # 定义随机数生成器rdm，使用随机数种子seed=1\n",
    "usr_random1 = rdm.rand()    # 无输入维度时返回一个常量\n",
    "usr_random2 = rdm.rand(2, 3) # 返回2行3列的随机数矩阵\n",
    "print(\"usr_random1= {} \\r\\n usr_random2= {}\".format(usr_random1, usr_random2))"
   ],
   "metadata": {
    "collapsed": false,
    "ExecuteTime": {
     "end_time": "2024-01-13T09:00:48.072304600Z",
     "start_time": "2024-01-13T09:00:48.052791300Z"
    }
   }
  },
  {
   "cell_type": "code",
   "execution_count": 8,
   "outputs": [
    {
     "name": "stdout",
     "output_type": "stream",
     "text": [
      "[[1 2 3]\n",
      " [4 5 6]]\n"
     ]
    }
   ],
   "source": [
    "# 数组垂直叠加\n",
    "a1 = np.array([1, 2, 3])\n",
    "a2 = np.array([4, 5, 6])\n",
    "b = np.vstack((a1, a2))\n",
    "print(b)"
   ],
   "metadata": {
    "collapsed": false,
    "ExecuteTime": {
     "end_time": "2024-01-13T09:08:46.662028700Z",
     "start_time": "2024-01-13T09:08:46.647479400Z"
    }
   }
  },
  {
   "cell_type": "code",
   "execution_count": 21,
   "outputs": [
    {
     "name": "stdout",
     "output_type": "stream",
     "text": [
      "[[1. 1. 1. 1. 1. 1.]\n",
      " [2. 2. 2. 2. 2. 2.]]\n",
      "[[3.  3.5 4.  4.5 5.  5.5]\n",
      " [3.  3.5 4.  4.5 5.  5.5]]\n",
      "[[1.  3. ]\n",
      " [1.  3.5]\n",
      " [1.  4. ]\n",
      " [1.  4.5]\n",
      " [1.  5. ]\n",
      " [1.  5.5]\n",
      " [2.  3. ]\n",
      " [2.  3.5]\n",
      " [2.  4. ]\n",
      " [2.  4.5]\n",
      " [2.  5. ]\n",
      " [2.  5.5]]\n"
     ]
    }
   ],
   "source": [
    "# 范围数组生成，数组拉伸，多数组配对组合\n",
    "a1, a2 = np.mgrid[1:3:1, 3:6:0.5]\n",
    "print(a1)\n",
    "print(a2)\n",
    "\n",
    "b = np.c_[np.ravel(a1), np.ravel(a2)]   # a1.ravel()执行二维变一维拉伸，np.c_进行组合操作\n",
    "print(b)"
   ],
   "metadata": {
    "collapsed": false,
    "ExecuteTime": {
     "end_time": "2024-01-13T09:26:55.156166600Z",
     "start_time": "2024-01-13T09:26:55.126169200Z"
    }
   }
  },
  {
   "cell_type": "markdown",
   "source": [
    "从numpy中导入数据"
   ],
   "metadata": {
    "collapsed": false
   }
  },
  {
   "cell_type": "code",
   "execution_count": null,
   "outputs": [],
   "source": [
    "a = np.arange(0, 5)\n",
    "b = tf.convert_to_tensor(a, dtype=tf.int64)\n",
    "print(a)\n",
    "print(b)"
   ],
   "metadata": {
    "collapsed": false
   }
  },
  {
   "cell_type": "markdown",
   "source": [
    "## 常用函数\n",
    "\n",
    "#### 张量处理类"
   ],
   "metadata": {
    "collapsed": false
   }
  },
  {
   "cell_type": "code",
   "execution_count": null,
   "outputs": [],
   "source": [
    "a1 = tf.constant([1,2,3], dtype=tf.float64)\n",
    "print(a1)\n",
    "a2 = tf.cast(a1, tf.int64)  # 强制数据类型转换\n",
    "print(a2)\n",
    "\n",
    "print(tf.reduce_min(a2), tf.reduce_max(a2)) # 查找张量数据中的最小值和最大值"
   ],
   "metadata": {
    "collapsed": false
   }
  },
  {
   "cell_type": "code",
   "execution_count": null,
   "outputs": [],
   "source": [
    "a1 = tf.constant([[1,2,3],[2,3,4]])\n",
    "print(a1)\n",
    "print(tf.reduce_max(a1, axis=0))    # 按照列查找最大的行\n",
    "print(tf.reduce_sum(a1,axis=1))     # 按照行计算各列的和"
   ],
   "metadata": {
    "collapsed": false
   }
  },
  {
   "cell_type": "code",
   "execution_count": 29,
   "outputs": [
    {
     "name": "stdout",
     "output_type": "stream",
     "text": [
      "[[1 2 3]\n",
      " [2 3 4]\n",
      " [5 6 7]\n",
      " [7 8 2]]\n",
      "tf.Tensor([3 3 2], shape=(3,), dtype=int64)\n",
      "tf.Tensor([2 2 2 1], shape=(4,), dtype=int64)\n"
     ]
    }
   ],
   "source": [
    "# 张量数据索引\n",
    "test = np.array([[1, 2, 3],[2, 3, 4],[5, 6, 7], [7, 8, 2]])\n",
    "print(test)\n",
    "print(tf.argmax(test, axis=0))  # 按列查找，找到每一列的最大值序列号\n",
    "print(tf.argmax(test, axis=1))  # 按行查找，找到每一行的最大值序列号"
   ],
   "metadata": {
    "collapsed": false,
    "ExecuteTime": {
     "end_time": "2024-01-12T14:04:23.520428900Z",
     "start_time": "2024-01-12T14:04:23.460431500Z"
    }
   }
  },
  {
   "cell_type": "markdown",
   "source": [
    "#### 数学运算类"
   ],
   "metadata": {
    "collapsed": false
   }
  },
  {
   "cell_type": "code",
   "execution_count": null,
   "outputs": [],
   "source": [
    "a1 = tf.constant([[1,2,3],[1,2,3]])\n",
    "a2 = tf.constant([[2,3,4],[2,3,4]])\n",
    "print(tf.add(a1, a2))   # 加\n",
    "print(tf.subtract(a1, a2))  # 减\n",
    "print(tf.multiply(a1, a2))  # 乘\n",
    "print(tf.divide(a1, a1))    # 除"
   ],
   "metadata": {
    "collapsed": false
   }
  },
  {
   "cell_type": "code",
   "execution_count": null,
   "outputs": [],
   "source": [
    "a1 = tf.fill([1,3], 3.)  # 这里的指定值为3. 小数点是为了生成float32类型数据\n",
    "print(a1)\n",
    "print(tf.pow(a1, 3))    # 开三次方根\n",
    "print(tf.square(a1))    # 平方\n",
    "print(tf.square(a1))    # 开方"
   ],
   "metadata": {
    "collapsed": false
   }
  },
  {
   "cell_type": "code",
   "execution_count": null,
   "outputs": [],
   "source": [
    "a = tf.ones([3, 2])     # 3行2列\n",
    "b = tf.fill([2, 3], 3.) # 2行3列\n",
    "print(tf.matmul(a, b))  # 矩阵叉乘得6行6列，叉乘的两个矩阵，前者的列数必须和后者的行数相等"
   ],
   "metadata": {
    "collapsed": false
   }
  },
  {
   "cell_type": "markdown",
   "source": [
    "#### 网络训练类"
   ],
   "metadata": {
    "collapsed": false
   }
  },
  {
   "cell_type": "code",
   "execution_count": null,
   "outputs": [],
   "source": [
    "tf.Variable(tf.random.normal([2,2],mean=0,stddev=1))    # 标记可以用于训练修改的权重参数"
   ],
   "metadata": {
    "collapsed": false
   }
  },
  {
   "cell_type": "code",
   "execution_count": null,
   "outputs": [],
   "source": [
    "# data = tf.data.Dataset.from_tensor_slices((特征数据, 标签数据)) 可以直接输入numpy或者tensor格式的数据\n",
    "features = tf.constant([[12,13], [15,16], [20,21], [10,11]])    # 特征数据\n",
    "labels = tf.constant([0, 1, 1, 0])          # 标签\n",
    "dataset = tf.data.Dataset.from_tensor_slices((features, labels))    # 对应结合\n",
    "for element in dataset:\n",
    "    print(element)  # 输出"
   ],
   "metadata": {
    "collapsed": false
   }
  },
  {
   "cell_type": "code",
   "execution_count": null,
   "outputs": [],
   "source": [
    "with tf.GradientTape() as tape: # 记录上下文微分信息\n",
    "    w = tf.Variable(tf.constant(3.0))   # 可变参数，初值为3.0\n",
    "    loss = tf.pow(w, 2) # 损失函数\n",
    "grad = tape.gradient(loss, w)   # 损失函数对w求导\n",
    "print(grad)"
   ],
   "metadata": {
    "collapsed": false
   }
  },
  {
   "cell_type": "code",
   "execution_count": null,
   "outputs": [],
   "source": [
    "# 枚举列表\n",
    "data = ['one', 'two', 'three']\n",
    "for i, element in enumerate(data):  # 返回的第一个是序列号，第二个是内容\n",
    "    print(i, element)"
   ],
   "metadata": {
    "collapsed": false
   }
  },
  {
   "cell_type": "code",
   "execution_count": 2,
   "outputs": [
    {
     "name": "stdout",
     "output_type": "stream",
     "text": [
      "tf.Tensor([1 2 3 4 5], shape=(5,), dtype=int32)\n"
     ]
    }
   ],
   "source": [
    "# 条件循环\n",
    "a = tf.constant([1, 2, 3, 4, 5])\n",
    "b = tf.constant([0, 1, 3, 4, 5])\n",
    "c = tf.where(tf.greater(a, b), a, b)    # 如果条件为真返回第一个值，条件假返回第二个值\n",
    "print(c)"
   ],
   "metadata": {
    "collapsed": false,
    "ExecuteTime": {
     "end_time": "2024-01-13T08:47:54.372885200Z",
     "start_time": "2024-01-13T08:47:50.798660500Z"
    }
   }
  },
  {
   "cell_type": "code",
   "execution_count": null,
   "outputs": [],
   "source": [
    "# 独热码\n",
    "classes = 4     # 标签数\n",
    "labels = tf.constant([1, 0, 6 ,3])  # 输入标签数据\n",
    "output = tf.one_hot(labels, depth=classes)  # 独热码转换\n",
    "print(output)"
   ],
   "metadata": {
    "collapsed": false
   }
  },
  {
   "cell_type": "code",
   "execution_count": null,
   "outputs": [],
   "source": [
    "# softmax()\n",
    "y = tf.constant([1.01, 2.02, -1.11])\n",
    "y_out = tf.nn.softmax(y)\n",
    "print(\"data {}, after softmax is {}\".format(y, y_out))"
   ],
   "metadata": {
    "collapsed": false
   }
  },
  {
   "cell_type": "code",
   "execution_count": null,
   "outputs": [],
   "source": [
    "# 跟新参数\n",
    "w = tf.Variable(4)\n",
    "w.assign_sub(1)\n",
    "print(w)"
   ],
   "metadata": {
    "collapsed": false
   }
  }
 ],
 "metadata": {
  "kernelspec": {
   "display_name": "Python 3",
   "language": "python",
   "name": "python3"
  },
  "language_info": {
   "codemirror_mode": {
    "name": "ipython",
    "version": 2
   },
   "file_extension": ".py",
   "mimetype": "text/x-python",
   "name": "python",
   "nbconvert_exporter": "python",
   "pygments_lexer": "ipython2",
   "version": "2.7.6"
  }
 },
 "nbformat": 4,
 "nbformat_minor": 0
}
