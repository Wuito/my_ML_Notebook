{
 "cells": [
  {
   "cell_type": "markdown",
   "source": [
    "# 损失函数"
   ],
   "metadata": {
    "collapsed": false
   }
  },
  {
   "cell_type": "code",
   "execution_count": 1,
   "outputs": [],
   "source": [
    "import numpy as np\n",
    "import tensorflow as tf\n",
    "import matplotlib.pyplot as plt"
   ],
   "metadata": {
    "collapsed": false,
    "ExecuteTime": {
     "end_time": "2024-01-13T13:35:44.993623200Z",
     "start_time": "2024-01-13T13:35:42.444908200Z"
    }
   }
  },
  {
   "cell_type": "markdown",
   "source": [
    "##  MSE 均方误差\n",
    "$$ MSE(Y,\\hat{Y} ) = \\frac{\\sum_{i=1}^{n}(Y_i - \\hat{Y_i})^{2} }{n} $$"
   ],
   "metadata": {
    "collapsed": false
   }
  },
  {
   "cell_type": "code",
   "execution_count": 3,
   "outputs": [
    {
     "name": "stdout",
     "output_type": "stream",
     "text": [
      "Mean Squared Error (MSE): 4.0202913\n"
     ]
    }
   ],
   "source": [
    "# 生成一些示例数据\n",
    "np.random.seed(42)\n",
    "true_values = np.random.randint(0, 10, 100)\n",
    "predicted_values = true_values + np.random.normal(0, 2, 100)\n",
    "\n",
    "# 转换为 TensorFlow 的张量\n",
    "true_values_tensor = tf.constant(true_values, dtype=tf.float32)\n",
    "predicted_values_tensor = tf.constant(predicted_values, dtype=tf.float32)\n",
    "\n",
    "# 计算均方误差 (MSE)\n",
    "mse = tf.reduce_mean(tf.square(true_values_tensor - predicted_values_tensor))\n",
    "\n",
    "# 输出 MSE 的值\n",
    "print(\"Mean Squared Error (MSE):\", mse.numpy())"
   ],
   "metadata": {
    "collapsed": false,
    "ExecuteTime": {
     "end_time": "2024-01-13T13:09:41.023593200Z",
     "start_time": "2024-01-13T13:09:36.983446400Z"
    }
   }
  },
  {
   "cell_type": "markdown",
   "source": [
    "##  交叉熵CE\n",
    "$$ H(Y,\\hat{Y} ) = -\\sum \\hat{Y_i}\\times lnY_i $$"
   ],
   "metadata": {
    "collapsed": false
   }
  },
  {
   "cell_type": "code",
   "execution_count": 2,
   "outputs": [
    {
     "name": "stdout",
     "output_type": "stream",
     "text": [
      "分步计算的结果:\n",
      " tf.Tensor(\n",
      "[1.68795487e-04 1.03475622e-03 6.58839038e-02 2.58349207e+00\n",
      " 5.49852354e-02], shape=(5,), dtype=float64)\n",
      "结合计算的结果:\n",
      " tf.Tensor(\n",
      "[1.68795487e-04 1.03475622e-03 6.58839038e-02 2.58349207e+00\n",
      " 5.49852354e-02], shape=(5,), dtype=float64)\n"
     ]
    }
   ],
   "source": [
    "# 生成两组数据 y_ 已经符合概率分布要求，y 可以认为是网轮的输出矩阵\n",
    "y_ = np.array([[1, 0, 0], [0, 1, 0], [0, 0, 1], [1, 0, 0], [0, 1, 0]])\n",
    "y = np.array([[12, 3, 2], [3, 10, 1], [1, 2, 5], [4, 6.5, 1.2], [3, 6, 1]])\n",
    "y_pro = tf.nn.softmax(y)\t# 计算输出数据的概率分布\n",
    "loss_ce1 = tf.losses.categorical_crossentropy(y_,y_pro)\t# 计算交叉熵\n",
    "loss_ce2 = tf.nn.softmax_cross_entropy_with_logits(y_, y)\t# 复合了softmax和交叉熵计算的函数\n",
    "\n",
    "print('分步计算的结果:\\n', loss_ce1)\n",
    "print('结合计算的结果:\\n', loss_ce2)"
   ],
   "metadata": {
    "collapsed": false,
    "ExecuteTime": {
     "end_time": "2024-01-13T13:35:57.470126800Z",
     "start_time": "2024-01-13T13:35:57.189548800Z"
    }
   }
  }
 ],
 "metadata": {
  "kernelspec": {
   "display_name": "Python 3",
   "language": "python",
   "name": "python3"
  },
  "language_info": {
   "codemirror_mode": {
    "name": "ipython",
    "version": 2
   },
   "file_extension": ".py",
   "mimetype": "text/x-python",
   "name": "python",
   "nbconvert_exporter": "python",
   "pygments_lexer": "ipython2",
   "version": "2.7.6"
  }
 },
 "nbformat": 4,
 "nbformat_minor": 0
}
